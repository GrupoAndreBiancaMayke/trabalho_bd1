{
  "nbformat": 4,
  "nbformat_minor": 0,
  "metadata": {
    "colab": {
      "name": "TrabalhoBD.ipynb",
      "provenance": [],
      "collapsed_sections": [
        "iRf17vxMtmyx",
        "Q2gi7L7ivn4c",
        "KxMcBjONxzSF",
        "qS4q8XbTyclF",
        "EAdbpVj2y9Zy",
        "4hwdq5uzzdzg",
        "wfzCCCK81GVE",
        "2vKgUEjJ4VeB",
        "PbMvRIzR7mxU",
        "Sq-GghJf96-1",
        "Y3zgq8MOQulY",
        "NCCalxnXRw6Q"
      ]
    },
    "kernelspec": {
      "name": "python3",
      "display_name": "Python 3"
    }
  },
  "cells": [
    {
      "cell_type": "markdown",
      "metadata": {
        "id": "gVohWUs423US",
        "colab_type": "text"
      },
      "source": [
        
      ]
    },
    {
      "cell_type": "code",
      "metadata": {
        "id": "vdB8XJhB22FD",
        "colab_type": "code",
        "colab": {}
      },
      "source": [
        "#!pip install --user psycopg2-binary\n",
        "#!pip install --user seaborn\n",
        "#!pip install --user pandas"
      ],
      "execution_count": 0,
      "outputs": []
    },
    {
      "cell_type": "code",
      "metadata": {
        "id": "mCGkIgSp22RJ",
        "colab_type": "code",
        "colab": {}
      },
      "source": [
        "import seaborn as sns\n",
        "import pandas as pd\n",
        "import psycopg2"
      ],
      "execution_count": 0,
      "outputs": []
    },
    {
      "cell_type": "code",
      "metadata": {
        "colab_type": "code",
        "id": "WcYMDT9gpYUx",
        "colab": {}
      },
      "source": [
        "conn = psycopg2.connect(host =\"motty.db.elephantsql.com\",port =\"5432\",database=\"vfzgbrwj\",user=\"vfzgbrwj\",password=\"oLX38Zq-rL9IzqeGOLgLHrDmu-vNBZ9u\")\n",
        "cur = conn.cursor() "
      ],
      "execution_count": 0,
      "outputs": []
    },
    {
      "cell_type": "code",
      "metadata": {
        "id": "uv1qQP_pM1bv",
        "colab_type": "code",
        "colab": {}
      },
      "source": [
        "conn = psycopg2.connect(host =\"salt.db.elephantsql.com\",port =\"5432\",database=\"voaidweo\",user=\"voaidweo\",password=\"ZvgOQW6nR3kgSMkcBL6z8kR2qmTa0ApK\")\n",
        "cur = conn.cursor() "
      ],
      "execution_count": 0,
      "outputs": []
    },
    {
      "cell_type": "code",
      "metadata": {
        "id": "ZZ2-EBmuMOYG",
        "colab_type": "code",
        "colab": {}
      },
      "source": [
        "conn = psycopg2.connect(host =\"tuffi.db.elephantsql.com\",port =\"5432\",database=\"oabqqrup\",user=\"oabqqrup\",password=\"y3TmnsRw_QDeQAukmkH70BL9BkIWgQW4\")\n",
        "cur = conn.cursor() "
      ],
      "execution_count": 0,
      "outputs": []
    },
    {
      "cell_type": "markdown",
      "metadata": {
        "id": "f8jJbZu27bwi",
        "colab_type": "text"
      },
      "source": [
        "# **MODELO FISICO**"
      ]
    },
    {
      "cell_type": "code",
      "metadata": {
        "id": "BVHRQVaV0jTP",
        "colab_type": "code",
        "colab": {}
      },
      "source": [
        "cur.execute(\"drop table agendamento, avaliacoes, bairro, cidade, contato, endereco, modo_pagamento, servico, usuario cascade;\")"
      ],
      "execution_count": 0,
      "outputs": []
    },
    {
      "cell_type": "code",
      "metadata": {
        "id": "2U-UwFTY3tQk",
        "colab_type": "code",
        "colab": {}
      },
      "source": [
        "cur.execute('''\n",
        "CREATE TABLE Usuario (\n",
        "    codigo int PRIMARY KEY,\n",
        "    nome_usuario varchar(30),\n",
        "    email varchar(50),\n",
        "    sexo char,\n",
        "    senha varchar(30),\n",
        "    nome_completo varchar(60),\n",
        "    data_nascimento date,\n",
        "    cpf varchar(14),\n",
        "    data_cadastro date\n",
        ");\n",
        "\n",
        "CREATE TABLE Servico (\n",
        "    codigo int PRIMARY KEY,\n",
        "    codigo_prestador int,\n",
        "    nome varchar(60),\n",
        "    descricao varchar(500),\n",
        "    preco decimal(10,2),\n",
        "    codigo_modo_pagamento int,\n",
        "    data_publicacao date\n",
        ");\n",
        "\n",
        "CREATE TABLE Contato (\n",
        "    codigo_usuario int,\n",
        "    telefone varchar(14)\n",
        ");\n",
        "\n",
        "CREATE TABLE Endereco (\n",
        "    codigo int PRIMARY KEY,\n",
        "    cep varchar(9),\n",
        "    endereco varchar(100),\n",
        "    numero int,\n",
        "    codigo_bairro int,\n",
        "    codigo_cidade int\n",
        ");\n",
        "\n",
        "CREATE TABLE Agendamento (\n",
        "    codigo int PRIMARY KEY,\n",
        "    codigo_servico int,\n",
        "    codigo_cliente int,\n",
        "    codigo_endereco int,\n",
        "    data date,\n",
        "    hora varchar(5)\n",
        ");\n",
        "\n",
        "CREATE TABLE Modo_pagamento (\n",
        "    codigo int PRIMARY KEY,\n",
        "    modo varchar(50)\n",
        ");\n",
        "\n",
        "CREATE TABLE Avaliacoes (\n",
        "    codigo_servico int,\n",
        "    avaliacao int,\n",
        "    comentario varchar(150)\n",
        ");\n",
        "\n",
        "CREATE TABLE Bairro (\n",
        "    codigo int PRIMARY KEY,\n",
        "    nome varchar(50)\n",
        ");\n",
        "\n",
        "CREATE TABLE Cidade (\n",
        "    codigo int PRIMARY KEY,\n",
        "    nome varchar(50)\n",
        ");\n",
        "\n",
        "CREATE TABLE usuario_endereco (\n",
        "    codigo_usuario int,\n",
        "    codigo_endereco int\n",
        ");\n",
        " \n",
        "ALTER TABLE Servico ADD CONSTRAINT FK_Servico_2\n",
        "    FOREIGN KEY (codigo_prestador)\n",
        "    REFERENCES Usuario (codigo)\n",
        "    ON DELETE CASCADE;\n",
        " \n",
        "ALTER TABLE Servico ADD CONSTRAINT FK_Servico_3\n",
        "    FOREIGN KEY (codigo_modo_pagamento)\n",
        "    REFERENCES Modo_pagamento (codigo)\n",
        "    ON DELETE CASCADE;\n",
        " \n",
        "ALTER TABLE Contato ADD CONSTRAINT FK_Contato_1\n",
        "    FOREIGN KEY (codigo_usuario)\n",
        "    REFERENCES Usuario (codigo)\n",
        "    ON DELETE RESTRICT;\n",
        " \n",
        "ALTER TABLE Endereco ADD CONSTRAINT FK_Endereco_2\n",
        "    FOREIGN KEY (codigo_bairro)\n",
        "    REFERENCES Bairro (codigo)\n",
        "    ON DELETE RESTRICT;\n",
        " \n",
        "ALTER TABLE Endereco ADD CONSTRAINT FK_Endereco_3\n",
        "    FOREIGN KEY (codigo_cidade)\n",
        "    REFERENCES Cidade (codigo)\n",
        "    ON DELETE RESTRICT;\n",
        " \n",
        "ALTER TABLE Agendamento ADD CONSTRAINT FK_Agendamento_2\n",
        "    FOREIGN KEY (codigo_cliente)\n",
        "    REFERENCES Usuario (codigo)\n",
        "    ON DELETE CASCADE;\n",
        " \n",
        "ALTER TABLE Agendamento ADD CONSTRAINT FK_Agendamento_3\n",
        "    FOREIGN KEY (codigo_endereco)\n",
        "    REFERENCES Endereco (codigo)\n",
        "    ON DELETE CASCADE;\n",
        " \n",
        "ALTER TABLE Agendamento ADD CONSTRAINT FK_Agendamento_4\n",
        "    FOREIGN KEY (codigo_servico)\n",
        "    REFERENCES Servico (codigo)\n",
        "    ON DELETE CASCADE;\n",
        " \n",
        "ALTER TABLE Avaliacoes ADD CONSTRAINT FK_Avaliacoes_1\n",
        "    FOREIGN KEY (codigo_servico)\n",
        "    REFERENCES Servico (codigo)\n",
        "    ON DELETE CASCADE;\n",
        " \n",
        "ALTER TABLE usuario_endereco ADD CONSTRAINT FK_usuario_endereco_1\n",
        "    FOREIGN KEY (codigo_endereco)\n",
        "    REFERENCES Endereco (codigo)\n",
        "    ON DELETE RESTRICT;\n",
        " \n",
        "ALTER TABLE usuario_endereco ADD CONSTRAINT FK_usuario_endereco_2\n",
        "    FOREIGN KEY (codigo_usuario)\n",
        "    REFERENCES Usuario (codigo)\n",
        "    ON DELETE SET NULL;''')"
      ],
      "execution_count": 0,
      "outputs": []
    },
    {
      "cell_type": "markdown",
      "metadata": {
        "id": "c6_TXslx7hZ8",
        "colab_type": "text"
      },
      "source": [
        "# **INSERT DOS DADOS**"
      ]
    },
    {
      "cell_type": "code",
      "metadata": {
        "id": "c7hFUZ3J7Pmj",
        "colab_type": "code",
        "colab": {}
      },
      "source": [
        "#Insert de todos os dados nas tabelas criadas\n",
        "cur.execute('''\n",
        "insert into cidade values\n",
        "(001,\t'Aracruz'),\n",
        "(002,\t'Vila Velha'),\n",
        "(003,\t'Serra'),\n",
        "(004,\t'Linhares'),\n",
        "(005,\t'Vitoria'),\n",
        "(006,\t'Cariacica'),\n",
        "(007,\t'Cachoeiro de Itapemirim');\n",
        "\n",
        "insert into bairro values\n",
        "(001,\t'De Carli'),\n",
        "(002,\t'Aracas'),\n",
        "(003,\t'Central Carapina'),\n",
        "(004,\t'Centro da Serra'),\n",
        "(005,\t'Colina'),\n",
        "(006,\t'das Laranjeiras'),\n",
        "(007,\t'Caratoira'),\n",
        "(008,\t'Campina Grande'),\n",
        "(009,\t'Santa Paula I'),\n",
        "(010,\t'Arariguaba'),\n",
        "(011,\t'Movelar'),\n",
        "(012,\t'Paul'),\n",
        "(013,\t'Joana Darc'),\n",
        "(014,\t'Alterosas'),\n",
        "(015,\t'Cidade da Barra'),\n",
        "(016,\t'Sao Torquato'),\n",
        "(017,\t' Rosario de Fatima'),\n",
        "(018,\t'Consolacao');\n",
        "\n",
        "insert into endereco values\n",
        "(001, '29194-025',\t'Rua Joao da Costa Rampinelli',\t150, 001, 001),\n",
        "(002, '29103-021',\t'Rua Atenas',\t1960, 002, 002),\n",
        "(003,\t'29161-583',\t'Rua Alfredo Chaves',\t1074, 003, 003),\n",
        "(004,\t'29179-177',\t'Rua Arrudao',\t270,\t004, 003),\n",
        "(005,\t'29900-399',  'Avenida Aracruz',\t1125,\t005, 004),\n",
        "(006,\t'29175-698',\t'Rua Primavera',\t689, 006, 003),\n",
        "(007,\t'29025-705',\t'Escadaria Agripino Moreira Drumond',\t676, 007, 005),\n",
        "(008,\t'29144-270',\t'Rua Sebastiao Pedro de Oliveira',\t615, 008, 006),\n",
        "(009,\t'29126-157',\t'Rua Dalia',\t506, 009, 002),\n",
        "(010,\t'29305-512',\t'Rua Amancio Silva',\t496,\t010, 007),\n",
        "(011,\t'29906-100',\t'Rua Pinheiro',\t1941,\t011, 004),\n",
        "(012,\t'29115-107',\t'Rua Paulo Natali',\t637,\t012, 002),\n",
        "(013,\t'29048-100',\t'Rua Miguel Arcanjo Moreira',\t31,\t013, 005),\n",
        "(014,\t'29167-029',\t'Rua Brasilia',\t54,\t014, 003),\n",
        "(015,\t'29124-016',\t'Rua Castro Alves',\t41,\t015, 002),\n",
        "(016,\t'29114-240',\t'Rua Professora Olga Feres de Cuzzi',\t941,\t016, 002),\n",
        "(017,\t'29161-583',\t'Rua Alfredo Chaves',\t854, 003, 003),\n",
        "(018,\t'29179-177',\t'Rua Arrudao',\t2,\t004, 003),\n",
        "(019,\t'29161-192',\t'Rua dos Curios',\t451,\t017, 003),\n",
        "(020,\t'29175-698',\t'Rua Primavera',\t364,\t006, 003),\n",
        "(021,\t'29045-605',\t'Escadaria Abrao Sader',\t75,\t018, 005),\n",
        "(022,\t'29048-100',\t'Rua Miguel Arcanjo Moreira',\t87,\t013, 005);\n",
        "\n",
        "insert into modo_pagamento values\n",
        "(001,\t'Dinheiro e cartao'),\n",
        "(002,\t'Dinheiro');\n",
        "\n",
        "insert into usuario values\n",
        "(001,'mosouza','MiguelOliveiraSouza@gmail.com','M','mortadela5','Miguel Oliveira Souza', '1967/09/28','470.750.937-11','2019/07/22'),\n",
        "(002,'mlribeiro','MarianaLimaRibeiro@gmail.com','F','Eibai6chee','Mariana Lima Ribeiro','2000/05/30','157.779.187-86','2019/02/23'),\n",
        "(003,'krpinto','KauanRochaPinto@hotmail.com','M','kovuR6sh','Kauan Rocha Pinto','1990/03/18','496.245.022-00','2019/09/23'),\n",
        "(004,'alsilva','AlineLimaSilva@hotmail.com','F','ru4cohseCh','Aline Lima Silva','1998/05/17','621.541.500-63','2018/02/15'),\n",
        "(005,'lasousa','LeonorAzevedoSousa@gmail.com','F','ug2QuoLahje','Leonor Azevedo Sousa','1983/12/03','495.836.132-40','2019/01/12'),\n",
        "(006,'fmbarros','FabioMeloBarros@hotmail.com','M','Wug3iria6','Fabio Melo Barros','1959/03/16','362.698.964-01','2019/06/13'),\n",
        "(007,'lcrodrigues','LuisCarvalhoRodrigues@hotmail.com','M','ach9Ooch','Luis Carvalho Rodrigues','1979/07/13','779.033.598-78','2019/07/31'),\n",
        "(008,'cralves','ClaraRochaAlves@yahoo.com.br','F','Chiexe7otu3','Clara Rocha Alves','1984/11/25','487.398.093-31','2019/07/22'),\n",
        "(009,'jgalmeida','JoaoGomesAlmeida@gmail.com','M','oG9Ii1sho','Joao Gomes Almeida','1982/03/31','805.302.543-95','2019/04/29'),\n",
        "(010,'mocorreia','MartimOliveiraCorreia@hotmail.com','M','ob2IXee5oo','Martim Oliveira Correia','1988/09/10','189.096.601-04','2019/09/15'),\n",
        "(011,'ybcarvalho','YasminBarrosCarvalho@gmail.com','F','Ieph3afegh','Yasmin Barros Carvalho','1965/06/03','620.590.802-66','2019/06/16'),\n",
        "(012,'lcpereira','LuisCarvalhoPereira@hotmail.com','M','Meothu8lei','Luis Carvalho Pereira','2000/02/18','688.757.541-87','2019/08/20'),\n",
        "(013,'rcrodrigues','RyanCarvalhoRodrigues@gmail.com','M','vaicorinthians','Ryan Carvalho Rodrigues','1998/08/21','389.195.961-31','2019/07/10'),\n",
        "(014,'mssilva','MarisaSantosSilva@gmail.com','F','Pho4toongoh','Marisa Santos Silva','1998/01/22','515.134.458-71','2019/02/23'),\n",
        "(015,'ipcosta','IsabellePereiraCosta@hotmail.com','F','princesadisney','Isabelle Pereira Costa','1978/04/01',\t'860.051.981-06','2019/09/01'),\n",
        "(016,'eccarvalho','EduardaCorreiaCarvalho@hotmail.com','F','jesusetop123','Eduarda Correia Carvalho','1971/06/30','459.188.175-06','2018/02/15'),\n",
        "(017,'jpcarvalho','JosePereiraCarvalho@gmail.com','M','amominhavida','Jose Pereira Carvalho','1987/03/12','663.280.264-80','2019/01/12'),\n",
        "(018,'dccastro','DiegoCardosoCastro@gmail.com','M','cardosod','Diego Cardoso Castro','1982/01/05','970.605.561-41','2019/06/13'),\n",
        "(019,'vitaraujo','VitoriaAraujoPereira@hotmail.com','F','varaujo','Vitoria Araujo Pereira','1963/11/23','823.971.241-06','2019/07/31'),\n",
        "(020,'jcrocha','JulietaCavalcantiRocha@yahoo.com.br','F','amomeupai','Julieta Cavalcanti Rocha','1991/05/29','770.366.643-20','2019/07/22');\n",
        "\n",
        "insert into servico values\n",
        "(001, 003, 'Manutencao de ar-condicionado', 'Instalacao - Manutencao - Higienizacao ar condicionado',\t0,\t001,\t'2019/09/23'),\n",
        "(002,\t017, 'Frete',\t'Faco transporte, mudancas, fretes, etc para todo o estado', \t150.00,\t002,\t'2018/02/15'),\n",
        "(003,\t006, 'Jardinagem',\t'Corte de arvores e podas em geral',\t0,\t001,\t'2019/06/13'),\n",
        "(004,\t008, 'Baba',\t'Cuido de criancas com responsabilidade. Valor acessivel.',\t60.00,\t002,\t'2019/07/22'),\n",
        "(005,\t009, 'Faxineiro',\t'Faco faxinas',\t90.00,\t002,\t'2019/04/29'),\n",
        "(006,\t011, 'Eletricista',\t'Instalacao, alteracao, manutencao e reparo em todos os tipos de construcoes',\t0,\t002,\t'2019/06/16'),\n",
        "(007,\t012, 'Pedreiro',\t'Orcamento gratuito e servico de qualidade',\t0,\t002,\t'2019/08/14'),\n",
        "(008,\t010, 'Motorista particular',\t'Viagens, passeios e corridas rapidas!!',\t0,\t001,\t'2018/02/14'),\n",
        "(009,\t005, 'Borracheiro',\t'Atendimento 24 horas',\t80.00,\t001,\t'2019/06/13'),\n",
        "(010,\t020, 'Baba',\t'Cuido de criancas ate 6 anos.',\t50.00,\t002,\t'2019/07/10');\n",
        "\n",
        "insert into contato values\n",
        "(001,\t'(27) 4075-9797'),\n",
        "(002,\t'(28) 4459-2069'),\n",
        "(003,\t'(28) 8799-5493'),\n",
        "(004,\t'(27) 8570-9305'),\n",
        "(005,\t'(27) 5747-8945'),\n",
        "(006,\t'(27) 2525-7502'),\n",
        "(007,\t'(28) 8798-2391'),\n",
        "(008,\t'(27) 7163-5324'),\n",
        "(009,\t'(28) 3389-9972'),\n",
        "(010,\t'(27) 3706-4024'),\n",
        "(011,\t'(27) 7154-2546'),\n",
        "(012,\t'(27) 5079-8415'),\n",
        "(013,\t'(27) 9958-9797'),\n",
        "(014,\t'(28) 9862-2069'),\n",
        "(015,\t'(28) 9745-5493'),\n",
        "(016,\t'(27) 9945-9305'),\n",
        "(017,\t'(27) 9041-8945'),\n",
        "(018,\t'(27) 9700-7502'),\n",
        "(019,\t'(28) 9999-9123'),\n",
        "(020,\t'(27) 9688-2453');\n",
        "\n",
        "insert into avaliacoes values\n",
        "(001,\t4,\t'Muito bom'),\n",
        "(002,\t5,\t'Perfeito, resolveu todo o meu problema. Servico mt rapido e atencioso'),\n",
        "(003,\t5,\t'Ficou tudo perfeito, amei'),\n",
        "(004,\t5,\t'Meu filho adorou'),\n",
        "(005,\t0,\t'Atrasou e nao limpou o banheiro'),\n",
        "(001,\t3,\t'Resolveu o problema'),\n",
        "(009,\t5,\t'Atendimento rapido'),\n",
        "(007,\t4,\t'Muito organizado e deixa tudo limpo'),\n",
        "(010,\t5,\t'Muito simpatica'),\n",
        "(008,\t4,\t'Carro limpo e com balinha');\n",
        "\n",
        "insert into agendamento values\n",
        "(001,\t001,\t001,  001, '2019/09/25',\t'9h00'),\n",
        "(002,\t003,\t002,  002, '2019/09/26',\t'14h30'),\n",
        "(003,\t004,\t010,  010, '2019/09/27',  '20h00'),\n",
        "(004,\t006,\t012,\t012, '2019/09/24',\t'12h00'),\n",
        "(005,\t004,\t008,\t008, '2019/09/09',\t'7h00'),\n",
        "(006,\t005,\t012,\t012, '2019/09/17',\t'14h30'),\n",
        "(007,\t001,\t010,\t010, '2019/10/01',\t'17h00'),\n",
        "(008,\t009,\t002,\t002, '2019/10/10',\t'12h00'),\n",
        "(009,\t007,\t019,\t019, '2019/09/20',\t'14h00'),\n",
        "(010,\t010,\t006,\t006, '2019/10/12',\t'11h00'),\n",
        "(011,\t008,\t015,\t015, '2019/10/10',\t'10h00'),\n",
        "(012,\t003,\t013,\t013, '2019/10/08',\t'8h30'),\n",
        "(013,\t009,\t001,\t001, '2019/10/24',\t'9h30'),\n",
        "(014,\t007,\t019,\t019, '2019/11/07',\t'9h00'),\n",
        "(015,\t010,\t006,\t006, '2019/11/03',\t'14h00'),\n",
        "(016,\t007,\t002,\t002, '2019/10/28',\t'8h30'),\n",
        "(017,\t008,  004,\t004, '2019/11/07',\t'20h00'),\n",
        "(018,\t003,\t009,\t009, '2019/10/02',\t'20h00'),\n",
        "(019,\t009,\t015,\t015, '2019/11/07',\t'9h00'),\n",
        "(020,\t002,\t016,\t016, '2019/11/05',\t'15h00');\n",
        "\n",
        "insert into usuario_endereco values\n",
        "(001,\t001),\n",
        "(002,\t002),\n",
        "(003,\t003),\n",
        "(004,\t004),\n",
        "(005,\t005),\n",
        "(006,\t006),\n",
        "(007,\t007),\n",
        "(008,\t008),\n",
        "(009,\t009),\n",
        "(010,\t010),\n",
        "(011,\t011),\n",
        "(012, 012),\n",
        "(001,\t013),\n",
        "(013,\t014),\n",
        "(014,\t015),\n",
        "(002,\t016),\n",
        "(015,\t017),\n",
        "(016, 018),\n",
        "(017,\t019),\n",
        "(018,\t020),\n",
        "(019,\t021),\n",
        "(020,\t022);''')"
      ],
      "execution_count": 0,
      "outputs": []
    },
    {
      "cell_type": "markdown",
      "metadata": {
        "id": "iRf17vxMtmyx",
        "colab_type": "text"
      },
      "source": [
        "# **Seleção de todos os dados da tabela:**\n",
        "\n",
        "**Seleção de todos os campos da tabela Usuário:**"
      ]
    },
    {
      "cell_type": "code",
      "metadata": {
        "id": "JPb7xh5wt37m",
        "colab_type": "code",
        "colab": {}
      },
      "source": [
        "usuario = pd.read_sql_query(\"\"\"SELECT * FROM usuario;\"\"\",conn)\n",
        "usuario"
      ],
      "execution_count": 0,
      "outputs": []
    },
    {
      "cell_type": "markdown",
      "metadata": {
        "id": "i4GGX_94utd_",
        "colab_type": "text"
      },
      "source": [
        "**Seleção de todos os campos da tabela Serviço:**"
      ]
    },
    {
      "cell_type": "code",
      "metadata": {
        "id": "hhvp0I8juDDh",
        "colab_type": "code",
        "colab": {}
      },
      "source": [
        "servico = pd.read_sql_query(\"\"\"SELECT * FROM servico;\"\"\",conn)\n",
        "servico"
      ],
      "execution_count": 0,
      "outputs": []
    },
    {
      "cell_type": "markdown",
      "metadata": {
        "id": "BHI5_zcpusxF",
        "colab_type": "text"
      },
      "source": [
        "**Seleção de todos os campos da tabela Contato:**\n",
        "\n"
      ]
    },
    {
      "cell_type": "code",
      "metadata": {
        "id": "Hqafy7GDuDmx",
        "colab_type": "code",
        "colab": {}
      },
      "source": [
        "contato = pd.read_sql_query(\"\"\"SELECT * FROM contato;\"\"\",conn)\n",
        "contato"
      ],
      "execution_count": 0,
      "outputs": []
    },
    {
      "cell_type": "markdown",
      "metadata": {
        "id": "vYIgy5h6utLP",
        "colab_type": "text"
      },
      "source": [
        "**Seleção de todos os campos da tabela Endereço:**"
      ]
    },
    {
      "cell_type": "code",
      "metadata": {
        "id": "SZ04f5HguDtQ",
        "colab_type": "code",
        "colab": {}
      },
      "source": [
        "endereco = pd.read_sql_query(\"\"\"SELECT * FROM endereco;\"\"\",conn)\n",
        "endereco"
      ],
      "execution_count": 0,
      "outputs": []
    },
    {
      "cell_type": "markdown",
      "metadata": {
        "id": "5FSk7alxusbf",
        "colab_type": "text"
      },
      "source": [
        "**Seleção de todos os campos da tabela Modo_Pagamento:**"
      ]
    },
    {
      "cell_type": "code",
      "metadata": {
        "id": "KJRBU1uauDzw",
        "colab_type": "code",
        "colab": {}
      },
      "source": [
        "modo_pagamento = pd.read_sql_query(\"\"\"SELECT * FROM modo_pagamento;\"\"\",conn)\n",
        "modo_pagamento"
      ],
      "execution_count": 0,
      "outputs": []
    },
    {
      "cell_type": "markdown",
      "metadata": {
        "id": "WAJtfkdHur8-",
        "colab_type": "text"
      },
      "source": [
        "**Seleção de todos os campos da tabela Avaliações:**"
      ]
    },
    {
      "cell_type": "code",
      "metadata": {
        "id": "LrG4tdp0uD5_",
        "colab_type": "code",
        "colab": {}
      },
      "source": [
        "avaliacoes = pd.read_sql_query(\"\"\"SELECT * FROM avaliacoes;\"\"\",conn)\n",
        "avaliacoes"
      ],
      "execution_count": 0,
      "outputs": []
    },
    {
      "cell_type": "markdown",
      "metadata": {
        "id": "xzbMMJ4kurrw",
        "colab_type": "text"
      },
      "source": [
        "**Seleção de todos os campos da tabela Agendamento:**"
      ]
    },
    {
      "cell_type": "code",
      "metadata": {
        "id": "fC-N8_iUuEAg",
        "colab_type": "code",
        "colab": {}
      },
      "source": [
        "agendamento = pd.read_sql_query(\"\"\"SELECT * FROM agendamento;\"\"\",conn)\n",
        "agendamento"
      ],
      "execution_count": 0,
      "outputs": []
    },
    {
      "cell_type": "markdown",
      "metadata": {
        "id": "pE3VooB2urV4",
        "colab_type": "text"
      },
      "source": [
        "**Seleção de todos os campos da tabela Bairro:**"
      ]
    },
    {
      "cell_type": "code",
      "metadata": {
        "id": "Ll7FWoaluEGx",
        "colab_type": "code",
        "colab": {}
      },
      "source": [
        "bairro = pd.read_sql_query(\"\"\"SELECT * FROM bairro;\"\"\",conn)\n",
        "bairro"
      ],
      "execution_count": 0,
      "outputs": []
    },
    {
      "cell_type": "markdown",
      "metadata": {
        "id": "kOzyms0-uqw1",
        "colab_type": "text"
      },
      "source": [
        "**Seleção de todos os campos da tabela Cidade:**"
      ]
    },
    {
      "cell_type": "code",
      "metadata": {
        "id": "BCmAB9_2uEMy",
        "colab_type": "code",
        "colab": {}
      },
      "source": [
        "cidade = pd.read_sql_query(\"\"\"SELECT * FROM cidade;\"\"\",conn)\n",
        "cidade"
      ],
      "execution_count": 0,
      "outputs": []
    },
    {
      "cell_type": "markdown",
      "metadata": {
        "id": "Q2gi7L7ivn4c",
        "colab_type": "text"
      },
      "source": [
        "# **Consulta nas tabelas com Filtro Where:**\n",
        "\n",
        "**Seleciona e exibe todos os nomes na tabela Usuário do sexo feminino:**"
      ]
    },
    {
      "cell_type": "code",
      "metadata": {
        "id": "-XgabScGw9Y-",
        "colab_type": "code",
        "colab": {}
      },
      "source": [
        "where1 = pd.read_sql_query(\"\"\"SELECT nome_completo FROM usuario WHERE sexo = 'F';\"\"\",conn)\n",
        "where1"
      ],
      "execution_count": 0,
      "outputs": []
    },
    {
      "cell_type": "markdown",
      "metadata": {
        "id": "NOMLWOluw-PV",
        "colab_type": "text"
      },
      "source": [
        "**Seleciona e exibe todos os nomes, descrições da tabela Serviço onde o preço dos serviços são menores que 100:**"
      ]
    },
    {
      "cell_type": "code",
      "metadata": {
        "id": "cHPHOa66w9nb",
        "colab_type": "code",
        "colab": {}
      },
      "source": [
        "where2 = pd.read_sql_query(\"\"\"SELECT nome, descricao FROM servico WHERE preco < 100;\"\"\",conn)\n",
        "where2"
      ],
      "execution_count": 0,
      "outputs": []
    },
    {
      "cell_type": "markdown",
      "metadata": {
        "id": "Ba_Bze2Hw-7W",
        "colab_type": "text"
      },
      "source": [
        "**Seleciona e exibe o nome e a descrição do servico que o preço não tem valor igual a zero:**"
      ]
    },
    {
      "cell_type": "code",
      "metadata": {
        "id": "FHRjX60Gw9tj",
        "colab_type": "code",
        "colab": {}
      },
      "source": [
        "where3 = pd.read_sql_query(\"\"\"SELECT nome, descricao FROM servico WHERE preco <> 0;\"\"\",conn)\n",
        "where3"
      ],
      "execution_count": 0,
      "outputs": []
    },
    {
      "cell_type": "markdown",
      "metadata": {
        "id": "ynIj65CZw_dl",
        "colab_type": "text"
      },
      "source": [
        "**Seleciona e exibe todos as avaliações e comentários recebidos da tabela Avaliacoes onde a avaliação recebida é maior ou igual a 3:**"
      ]
    },
    {
      "cell_type": "code",
      "metadata": {
        "id": "rtUTIupbw90M",
        "colab_type": "code",
        "colab": {}
      },
      "source": [
        "where4 = pd.read_sql_query(\"\"\"SELECT avaliacao, comentario FROM avaliacoes WHERE avaliacao >= 3;\"\"\",conn)\n",
        "where4"
      ],
      "execution_count": 0,
      "outputs": []
    },
    {
      "cell_type": "markdown",
      "metadata": {
        "id": "KxMcBjONxzSF",
        "colab_type": "text"
      },
      "source": [
        "# **Consulta nas tabelas com Operadores Lógicos:**\n",
        "\n",
        "**Seleciona e exibe todos os nomes e descrição de serviços na tabela Servico onde o preco dos mesmos não é um valor nulo:**"
      ]
    },
    {
      "cell_type": "code",
      "metadata": {
        "id": "BQwmsE87x49c",
        "colab_type": "code",
        "colab": {}
      },
      "source": [
        "logico1 = pd.read_sql_query(\"\"\"SELECT nome, descricao FROM servico WHERE preco < 100 AND preco > 50 ;\"\"\",conn)\n",
        "logico1"
      ],
      "execution_count": 0,
      "outputs": []
    },
    {
      "cell_type": "markdown",
      "metadata": {
        "id": "CdRg_AcqyNZF",
        "colab_type": "text"
      },
      "source": [
        "**Seleciona e exibe todos os nomes da tabela Usuário onde a data de nascimento de cada usuário está entre 01/01/1990 e 31/12/1999:**"
      ]
    },
    {
      "cell_type": "code",
      "metadata": {
        "id": "1bAMpSi7x-hZ",
        "colab_type": "code",
        "colab": {}
      },
      "source": [
        "logico2 = pd.read_sql_query(\"\"\"SELECT nome_completo FROM usuario WHERE data_nascimento >= '1990/01/01' AND data_nascimento <= '1999/12/31';\"\"\",conn)\n",
        "logico2"
      ],
      "execution_count": 0,
      "outputs": []
    },
    {
      "cell_type": "markdown",
      "metadata": {
        "id": "FV8l3dudyOHo",
        "colab_type": "text"
      },
      "source": [
        "**Seleciona e exibe todos os nomes e descrição de serviços na tabela Servico onde o preco dos mesmos é menor que 100 e a data de publicação deles é igual a 01/01/2019:**"
      ]
    },
    {
      "cell_type": "code",
      "metadata": {
        "id": "n04DvSX7x-oN",
        "colab_type": "code",
        "colab": {}
      },
      "source": [
        "logico3 = pd.read_sql_query(\"\"\"SELECT nome, descricao FROM servico WHERE preco < 100 AND data_publicacao >= '2019/01/01';\"\"\",conn)\n",
        "logico3"
      ],
      "execution_count": 0,
      "outputs": []
    },
    {
      "cell_type": "markdown",
      "metadata": {
        "id": "4jd9y60oyOmK",
        "colab_type": "text"
      },
      "source": [
        "**Seleciona e exibe todos os bairros e endereços da tabela Endereco onde a cidade das mesmas é Vila Velha ou Serra:**"
      ]
    },
    {
      "cell_type": "code",
      "metadata": {
        "id": "DceCRgCdx-xJ",
        "colab_type": "code",
        "colab": {}
      },
      "source": [
        "logico4 = pd.read_sql_query(\"\"\"SELECT endereco FROM endereco WHERE codigo_cidade = 3 OR codigo_cidade = 2;\"\"\",conn)\n",
        "logico4"
      ],
      "execution_count": 0,
      "outputs": []
    },
    {
      "cell_type": "markdown",
      "metadata": {
        "id": "0PeF3tFVyPOD",
        "colab_type": "text"
      },
      "source": [
        "**Seleciona e exibe todos os bairros e endereços da tabela Endereço onde o codigo dos usuarios não é nulo:**"
      ]
    },
    {
      "cell_type": "code",
      "metadata": {
        "id": "0HxSOnW9x_CK",
        "colab_type": "code",
        "colab": {}
      },
      "source": [
        "logico5 = pd.read_sql_query(\"\"\"SELECT comentario FROM avaliacoes WHERE comentario IS NOT NULL;\"\"\",conn)\n",
        "logico5"
      ],
      "execution_count": 0,
      "outputs": []
    },
    {
      "cell_type": "markdown",
      "metadata": {
        "id": "qS4q8XbTyclF",
        "colab_type": "text"
      },
      "source": [
        "# **Consultas nas tabelas com Operadores Aritméticos:**\n",
        "\n",
        "**Seleciona e exibe o nome, a descrição e o valor de 10% de desconto dos serviços:**"
      ]
    },
    {
      "cell_type": "code",
      "metadata": {
        "id": "ndzFWm16ykfo",
        "colab_type": "code",
        "colab": {}
      },
      "source": [
        "aritmetico1 = pd.read_sql_query(\"\"\"SELECT nome, descricao, preco*0.1 AS Desconto FROM servico;\"\"\",conn)\n",
        "aritmetico1"
      ],
      "execution_count": 0,
      "outputs": []
    },
    {
      "cell_type": "markdown",
      "metadata": {
        "id": "fBiUx8qkylNr",
        "colab_type": "text"
      },
      "source": [
        "**Seleciona e exibe o nome, a descrição e o valor total com 10% de desconto dos serviços:**"
      ]
    },
    {
      "cell_type": "code",
      "metadata": {
        "id": "8-6dgsJxyknn",
        "colab_type": "code",
        "colab": {}
      },
      "source": [
        "aritmetico2 = pd.read_sql_query(\"\"\"SELECT nome, descricao, preco*0.9 AS \"Preço com desconto\" FROM servico WHERE preco*0.9 < 90;\"\"\",conn)\n",
        "aritmetico2"
      ],
      "execution_count": 0,
      "outputs": []
    },
    {
      "cell_type": "markdown",
      "metadata": {
        "id": "sySpqHZ7ylqS",
        "colab_type": "text"
      },
      "source": [
        "**Seleciona e exibe o nome, a descrição e o preço com inflação de 5%:**"
      ]
    },
    {
      "cell_type": "code",
      "metadata": {
        "id": "uVCKBv4Tyktm",
        "colab_type": "code",
        "colab": {}
      },
      "source": [
        "aritmetico3 = pd.read_sql_query(\"\"\"SELECT nome, descricao, preco*1.05 AS \"Preço com inflação de 5%\" FROM servico;\"\"\",conn)\n",
        "aritmetico3"
      ],
      "execution_count": 0,
      "outputs": []
    },
    {
      "cell_type": "markdown",
      "metadata": {
        "id": "EAdbpVj2y9Zy",
        "colab_type": "text"
      },
      "source": [
        "# **Consultas nas tabelas com os Campos Renomeados:**\n",
        "\n",
        "**Seleciona e exibe o nome e o login dos usuários:**"
      ]
    },
    {
      "cell_type": "code",
      "metadata": {
        "id": "e4csvvZpzD6e",
        "colab_type": "code",
        "colab": {}
      },
      "source": [
        "campo1 = pd.read_sql_query(\"\"\"SELECT nome_completo AS Nome, nome_usuario AS Login FROM usuario;\"\"\",conn)\n",
        "campo1"
      ],
      "execution_count": 0,
      "outputs": []
    },
    {
      "cell_type": "markdown",
      "metadata": {
        "id": "PA60GEfJzEr1",
        "colab_type": "text"
      },
      "source": [
        "**Seleciona e exibe a quantidade de usuários:**"
      ]
    },
    {
      "cell_type": "code",
      "metadata": {
        "id": "eBdoSAXPzEDs",
        "colab_type": "code",
        "colab": {}
      },
      "source": [
        "campo2 = pd.read_sql_query(\"\"\"SELECT COUNT(*) AS Qtd_usuarios FROM usuario;\"\"\",conn)\n",
        "campo2"
      ],
      "execution_count": 0,
      "outputs": []
    },
    {
      "cell_type": "markdown",
      "metadata": {
        "id": "-QqKKbkhzFKF",
        "colab_type": "text"
      },
      "source": [
        "**Seleciona e exibe o nome e a idade dos usuários:**"
      ]
    },
    {
      "cell_type": "code",
      "metadata": {
        "id": "Cwdzb_X9zEJ8",
        "colab_type": "code",
        "colab": {}
      },
      "source": [
        "campo3 = pd.read_sql_query(\"\"\"SELECT nome_completo AS Nome, AGE(CURRENT_DATE,data_nascimento) AS Idade FROM usuario;\"\"\",conn)\n",
        "campo3"
      ],
      "execution_count": 0,
      "outputs": []
    },
    {
      "cell_type": "markdown",
      "metadata": {
        "id": "4hwdq5uzzdzg",
        "colab_type": "text"
      },
      "source": [
        "# **Consultas nas tabelas com Operadores Like e Datas:**\n",
        "\n",
        "**Seleciona e exibe o nome completo dos usuários que iniciam com M:**"
      ]
    },
    {
      "cell_type": "code",
      "metadata": {
        "id": "VolPlJTjzrgP",
        "colab_type": "code",
        "colab": {}
      },
      "source": [
        "likeData1 = pd.read_sql_query(\"\"\"SELECT nome_completo FROM usuario WHERE nome_completo ILIKE 'm%';\"\"\",conn)\n",
        "likeData1"
      ],
      "execution_count": 0,
      "outputs": []
    },
    {
      "cell_type": "markdown",
      "metadata": {
        "id": "DbTWdClp0af-",
        "colab_type": "text"
      },
      "source": [
        "**Seleciona e exibe o nome completo dos usuários que terminam com A:**"
      ]
    },
    {
      "cell_type": "code",
      "metadata": {
        "id": "SEM-adSDzroF",
        "colab_type": "code",
        "colab": {}
      },
      "source": [
        "likeData2 = pd.read_sql_query(\"\"\"SELECT nome_completo FROM usuario WHERE nome_completo LIKE '%a';\"\"\",conn)\n",
        "likeData2"
      ],
      "execution_count": 0,
      "outputs": []
    },
    {
      "cell_type": "markdown",
      "metadata": {
        "id": "gFDVWBdt0a-R",
        "colab_type": "text"
      },
      "source": [
        "**Seleciona e exibe o nome completo e o email dos usuários que possuem contas no yahoo:**"
      ]
    },
    {
      "cell_type": "code",
      "metadata": {
        "id": "QplE5arizruX",
        "colab_type": "code",
        "colab": {}
      },
      "source": [
        "likeData3 = pd.read_sql_query(\"\"\"SELECT nome_completo, email FROM usuario WHERE email LIKE '%yahoo%';\"\"\",conn)\n",
        "likeData3"
      ],
      "execution_count": 0,
      "outputs": []
    },
    {
      "cell_type": "markdown",
      "metadata": {
        "id": "uquEmox30bj_",
        "colab_type": "text"
      },
      "source": [
        "**Seleciona e exibe o telefone dos usuários com DDD 27:**"
      ]
    },
    {
      "cell_type": "code",
      "metadata": {
        "id": "AX4INDRxzr0W",
        "colab_type": "code",
        "colab": {}
      },
      "source": [
        "likeData4 = pd.read_sql_query(\"\"\"SELECT telefone FROM contato WHERE telefone LIKE '(27)%';\"\"\",conn)\n",
        "likeData4"
      ],
      "execution_count": 0,
      "outputs": []
    },
    {
      "cell_type": "markdown",
      "metadata": {
        "id": "nrBCEEXw0cHj",
        "colab_type": "text"
      },
      "source": [
        "**Seleciona e exibe o login dos usuários que possuem 7 caracteres:**"
      ]
    },
    {
      "cell_type": "code",
      "metadata": {
        "id": "lpZ-NDw6zr63",
        "colab_type": "code",
        "colab": {}
      },
      "source": [
        "likeData5 = pd.read_sql_query(\"\"\"SELECT nome_usuario FROM usuario WHERE nome_usuario LIKE '_______';\"\"\",conn)\n",
        "likeData5"
      ],
      "execution_count": 0,
      "outputs": []
    },
    {
      "cell_type": "markdown",
      "metadata": {
        "id": "kEfQuL5K0chD",
        "colab_type": "text"
      },
      "source": [
        "**Seleciona e exibe o telefone dos usuários que possuem DD 28:**"
      ]
    },
    {
      "cell_type": "code",
      "metadata": {
        "id": "gRuH7ymnzsAd",
        "colab_type": "code",
        "colab": {}
      },
      "source": [
        "likeData6 = pd.read_sql_query(\"\"\"SELECT telefone FROM contato WHERE telefone LIKE '(28)%';\"\"\",conn)\n",
        "likeData6"
      ],
      "execution_count": 0,
      "outputs": []
    },
    {
      "cell_type": "markdown",
      "metadata": {
        "id": "cij7ffwB0dGn",
        "colab_type": "text"
      },
      "source": [
        "**Seleciona e exibe o nome completo e o email dos usuários que possuem conta hotmail:**"
      ]
    },
    {
      "cell_type": "code",
      "metadata": {
        "id": "HYam7rRZzsHS",
        "colab_type": "code",
        "colab": {}
      },
      "source": [
        "likeData7 = pd.read_sql_query(\"\"\"SELECT nome_completo, email FROM usuario WHERE email LIKE '%hotmail%';\"\"\",conn)\n",
        "likeData7"
      ],
      "execution_count": 0,
      "outputs": []
    },
    {
      "cell_type": "markdown",
      "metadata": {
        "id": "DJeMSy8s0dtY",
        "colab_type": "text"
      },
      "source": [
        "**Seleciona o nome dos usuário e mostra a quanto tempo ele estão cadastrados no sistema:**"
      ]
    },
    {
      "cell_type": "code",
      "metadata": {
        "id": "Pj_B6ZA3zsNc",
        "colab_type": "code",
        "colab": {}
      },
      "source": [
        "likeData8 = pd.read_sql_query(\"\"\"SELECT nome_completo, CURRENT_DATE-(data_cadastro) AS \"Dias no sistema\" FROM usuario;\"\"\",conn)\n",
        "likeData8"
      ],
      "execution_count": 0,
      "outputs": []
    },
    {
      "cell_type": "markdown",
      "metadata": {
        "id": "I7Je0xuA0eJT",
        "colab_type": "text"
      },
      "source": [
        "**Seleciona e exibe o nome e a descrição dos serviços que estão com menos de 180 dias cadastrados no sistema:**"
      ]
    },
    {
      "cell_type": "code",
      "metadata": {
        "id": "f2ESWk8tzsUA",
        "colab_type": "code",
        "colab": {}
      },
      "source": [
        "likeData9 = pd.read_sql_query(\"\"\"SELECT nome, descricao FROM servico WHERE CURRENT_DATE-data_publicacao < 180;\"\"\",conn)\n",
        "likeData9"
      ],
      "execution_count": 0,
      "outputs": []
    },
    {
      "cell_type": "markdown",
      "metadata": {
        "id": "3hmhUAou0emb",
        "colab_type": "text"
      },
      "source": [
        "**Exibe a quantidade de serviços que foram cadastrados nos ultimos 6 meses:**"
      ]
    },
    {
      "cell_type": "code",
      "metadata": {
        "id": "SRGj8r2NzsaI",
        "colab_type": "code",
        "colab": {}
      },
      "source": [
        "likeData10 = pd.read_sql_query(\"\"\"SELECT COUNT(*) AS \"Quantidade de servicos nos ultimos 6 meses\" FROM servico WHERE CURRENT_DATE-data_publicacao < 180;\"\"\",conn)\n",
        "likeData10"
      ],
      "execution_count": 0,
      "outputs": []
    },
    {
      "cell_type": "markdown",
      "metadata": {
        "id": "ZhHkLiYL0fS8",
        "colab_type": "text"
      },
      "source": [
        "**Seleciona e exibe o codigo do serviço que foi agendado nos ultimos 3 meses:**"
      ]
    },
    {
      "cell_type": "code",
      "metadata": {
        "id": "vfVigsIqzsgz",
        "colab_type": "code",
        "colab": {}
      },
      "source": [
        "likeData11 = pd.read_sql_query(\"\"\"SELECT codigo_servico, COUNT(*) AS Qtd_Agendamentos_ultimos_3meses FROM agendamento WHERE CURRENT_DATE-data < 91 GROUP BY codigo_servico;\"\"\",conn)\n",
        "likeData11"
      ],
      "execution_count": 0,
      "outputs": []
    },
    {
      "cell_type": "markdown",
      "metadata": {
        "id": "R2pRUmqq0f16",
        "colab_type": "text"
      },
      "source": [
        "**Seleciona e exibe o nome de todos os serviços e o tempo que eles estão cadastrados no sistema:**"
      ]
    },
    {
      "cell_type": "code",
      "metadata": {
        "id": "XPFOS8iwzsmv",
        "colab_type": "code",
        "colab": {}
      },
      "source": [
        "likeData12 = pd.read_sql_query(\"\"\"SELECT nome, CURRENT_DATE-data_publicacao AS Tempo_no_sistema FROM servico;\"\"\",conn)\n",
        "likeData12"
      ],
      "execution_count": 0,
      "outputs": []
    },
    {
      "cell_type": "markdown",
      "metadata": {
        "id": "wfzCCCK81GVE",
        "colab_type": "text"
      },
      "source": [
        "# **Atualização e exclusão de dados:**\n",
        "\n",
        "**Atualização o modo de pagamento do servico com codigo número 009 na tabela Serviço:**"
      ]
    },
    {
      "cell_type": "code",
      "metadata": {
        "id": "NJjnQE6K4_3m",
        "colab_type": "code",
        "colab": {}
      },
      "source": [
        "servico1 = pd.read_sql_query(\"\"\"SELECT * FROM servico WHERE codigo = 009;\"\"\",conn)\n",
        "servico1"
      ],
      "execution_count": 0,
      "outputs": []
    },
    {
      "cell_type": "code",
      "metadata": {
        "id": "0I7YZ6Jn3280",
        "colab_type": "code",
        "colab": {}
      },
      "source": [
        "cur.execute(\"\"\"UPDATE servico SET codigo_modo_pagamento = 002 WHERE codigo = 009;\"\"\")"
      ],
      "execution_count": 0,
      "outputs": []
    },
    {
      "cell_type": "code",
      "metadata": {
        "id": "JHaxUR5E1RDl",
        "colab_type": "code",
        "colab": {}
      },
      "source": [
        "atualizacaoExclusao1 = pd.read_sql_query(\"\"\"SELECT * FROM servico WHERE codigo = 009;\"\"\",conn)\n",
        "atualizacaoExclusao1"
      ],
      "execution_count": 0,
      "outputs": []
    },
    {
      "cell_type": "markdown",
      "metadata": {
        "id": "7wbAekah3QtW",
        "colab_type": "text"
      },
      "source": [
        "**Atualização a data de agendamento do serviço com o código número 20:**"
      ]
    },
    {
      "cell_type": "code",
      "metadata": {
        "id": "jyT69jDM5Dbk",
        "colab_type": "code",
        "colab": {}
      },
      "source": [
        "agendamento1 = pd.read_sql_query(\"\"\"SELECT * FROM agendamento WHERE codigo = 20; \"\"\",conn)\n",
        "agendamento1"
      ],
      "execution_count": 0,
      "outputs": []
    },
    {
      "cell_type": "code",
      "metadata": {
        "id": "fAr5lULc33ef",
        "colab_type": "code",
        "colab": {}
      },
      "source": [
        "cur.execute(\"\"\"UPDATE agendamento SET data = '2019/11/06'  WHERE codigo = 20; \"\"\")"
      ],
      "execution_count": 0,
      "outputs": []
    },
    {
      "cell_type": "code",
      "metadata": {
        "id": "51UAwL3d1RMF",
        "colab_type": "code",
        "colab": {}
      },
      "source": [
        "atualizacaoExclusao2 = pd.read_sql_query(\"\"\"SELECT * FROM agendamento WHERE codigo = 20; \"\"\",conn)\n",
        "atualizacaoExclusao2"
      ],
      "execution_count": 0,
      "outputs": []
    },
    {
      "cell_type": "markdown",
      "metadata": {
        "id": "qogH_TBn3MYA",
        "colab_type": "text"
      },
      "source": [
        "**Exclusão dos dados da tabela de agendamento onde o código do prestador é igual a 17:**"
      ]
    },
    {
      "cell_type": "code",
      "metadata": {
        "id": "ovRyRjKI55_-",
        "colab_type": "code",
        "colab": {}
      },
      "source": [
        "agendamento2 = pd.read_sql_query(\"\"\"SELECT * FROM agendamento;\"\"\",conn)\n",
        "agendamento2"
      ],
      "execution_count": 0,
      "outputs": []
    },
    {
      "cell_type": "code",
      "metadata": {
        "id": "gnnKpQ_X34Lm",
        "colab_type": "code",
        "colab": {}
      },
      "source": [
        "cur.execute(\"\"\"DELETE FROM agendamento WHERE codigo = 20;\"\"\")"
      ],
      "execution_count": 0,
      "outputs": []
    },
    {
      "cell_type": "code",
      "metadata": {
        "id": "pNJnADVq1RS-",
        "colab_type": "code",
        "colab": {}
      },
      "source": [
        "atualizacaoExclusao3 = pd.read_sql_query(\"\"\"SELECT * FROM agendamento;\"\"\",conn)\n",
        "atualizacaoExclusao3"
      ],
      "execution_count": 0,
      "outputs": []
    },
    {
      "cell_type": "markdown",
      "metadata": {
        "id": "loUREgFM3M3M",
        "colab_type": "text"
      },
      "source": [
        "**Insere novamente os dados na tabela agendamento que foi excluido:**"
      ]
    },
    {
      "cell_type": "code",
      "metadata": {
        "id": "dyUobBIt34vD",
        "colab_type": "code",
        "colab": {}
      },
      "source": [
        "cur.execute(\"\"\"INSERT INTO agendamento VALUES (020,\t002, 016, 016, '2019/11/05', '15h00');\"\"\")"
      ],
      "execution_count": 0,
      "outputs": []
    },
    {
      "cell_type": "code",
      "metadata": {
        "id": "zZCKajgD1RaA",
        "colab_type": "code",
        "colab": {}
      },
      "source": [
        "inserir1 = pd.read_sql_query(\"\"\"SELECT * FROM agendamento WHERE codigo = 20;\"\"\",conn)\n",
        "inserir1"
      ],
      "execution_count": 0,
      "outputs": []
    },
    {
      "cell_type": "markdown",
      "metadata": {
        "id": "uChHiypt3NfW",
        "colab_type": "text"
      },
      "source": [
        "**Exclusão dos dados da tabela de agendamento onde o código do prestador é igual a 19:**"
      ]
    },
    {
      "cell_type": "code",
      "metadata": {
        "id": "WoT0S6GE5ax7",
        "colab_type": "code",
        "colab": {}
      },
      "source": [
        "agendamento3 = pd.read_sql_query(\"\"\"SELECT * FROM agendamento WHERE codigo = 19;\"\"\",conn)\n",
        "agendamento3"
      ],
      "execution_count": 0,
      "outputs": []
    },
    {
      "cell_type": "code",
      "metadata": {
        "id": "jyOdpdE-35Vs",
        "colab_type": "code",
        "colab": {}
      },
      "source": [
        "cur.execute(\"\"\"DELETE FROM agendamento WHERE codigo = 19;\"\"\")"
      ],
      "execution_count": 0,
      "outputs": []
    },
    {
      "cell_type": "code",
      "metadata": {
        "id": "bMGTqN0f1Rg4",
        "colab_type": "code",
        "colab": {}
      },
      "source": [
        "atualizacaoExclusao4 = pd.read_sql_query(\"\"\"SELECT * FROM agendamento;\"\"\",conn)\n",
        "atualizacaoExclusao4"
      ],
      "execution_count": 0,
      "outputs": []
    },
    {
      "cell_type": "markdown",
      "metadata": {
        "id": "6aYlV1Dr3N5U",
        "colab_type": "text"
      },
      "source": [
        "**Insere novamente os dados na tabela agendamento que foi excluido:**"
      ]
    },
    {
      "cell_type": "code",
      "metadata": {
        "id": "axfhII_a354G",
        "colab_type": "code",
        "colab": {}
      },
      "source": [
        "cur.execute(\"\"\"INSERT INTO agendamento VALUES (019, 009, 015, 015, '2019/11/07','9h00');\"\"\")"
      ],
      "execution_count": 0,
      "outputs": []
    },
    {
      "cell_type": "code",
      "metadata": {
        "id": "BZu_puEl1Rnu",
        "colab_type": "code",
        "colab": {}
      },
      "source": [
        "inserir2 = pd.read_sql_query(\"\"\"SELECT * FROM agendamento WHERE codigo = 19;\"\"\",conn)\n",
        "inserir2"
      ],
      "execution_count": 0,
      "outputs": []
    },
    {
      "cell_type": "markdown",
      "metadata": {
        "id": "jSw-Jv2r3OmD",
        "colab_type": "text"
      },
      "source": [
        "**Atualização o modo de pagamento do servico com codigo número 009 na tabela Serviço:**"
      ]
    },
    {
      "cell_type": "code",
      "metadata": {
        "id": "IykbiWjL5hHW",
        "colab_type": "code",
        "colab": {}
      },
      "source": [
        "servico2 = pd.read_sql_query(\"\"\"SELECT * FROM servico WHERE codigo = 009;\"\"\",conn)\n",
        "servico2"
      ],
      "execution_count": 0,
      "outputs": []
    },
    {
      "cell_type": "code",
      "metadata": {
        "id": "89TxCRqq36mO",
        "colab_type": "code",
        "colab": {}
      },
      "source": [
        "cur.execute(\"\"\"UPDATE servico SET codigo_modo_pagamento = 001 WHERE codigo = 009;\"\"\")"
      ],
      "execution_count": 0,
      "outputs": []
    },
    {
      "cell_type": "code",
      "metadata": {
        "id": "Qdc2C4im1Sj3",
        "colab_type": "code",
        "colab": {}
      },
      "source": [
        "atualizacaoExclusao5 = pd.read_sql_query(\"\"\"SELECT * FROM servico WHERE codigo = 009;\"\"\",conn)\n",
        "atualizacaoExclusao5"
      ],
      "execution_count": 0,
      "outputs": []
    },
    {
      "cell_type": "markdown",
      "metadata": {
        "id": "skGlfTuQ3PZQ",
        "colab_type": "text"
      },
      "source": [
        "**Atualização do telefone na tabela contato do usuário com o código número 20:**"
      ]
    },
    {
      "cell_type": "code",
      "metadata": {
        "id": "Hpt3vWIk5k8T",
        "colab_type": "code",
        "colab": {}
      },
      "source": [
        "contato1 = pd.read_sql_query(\"\"\"SELECT * FROM contato WHERE codigo_usuario = 012;;\"\"\",conn)\n",
        "contato1"
      ],
      "execution_count": 0,
      "outputs": []
    },
    {
      "cell_type": "code",
      "metadata": {
        "id": "YnAOGBj_37K8",
        "colab_type": "code",
        "colab": {}
      },
      "source": [
        "cur.execute(\"\"\"UPDATE contato SET telefone = '(27) 3354-1204' WHERE codigo_usuario = 012;\"\"\")"
      ],
      "execution_count": 0,
      "outputs": []
    },
    {
      "cell_type": "code",
      "metadata": {
        "id": "gEEmd9gm1Spd",
        "colab_type": "code",
        "colab": {}
      },
      "source": [
        "atualizacaoExclusao6 = pd.read_sql_query(\"\"\"SELECT * FROM contato WHERE codigo_usuario = 012;;\"\"\",conn)\n",
        "atualizacaoExclusao6"
      ],
      "execution_count": 0,
      "outputs": []
    },
    {
      "cell_type": "markdown",
      "metadata": {
        "id": "2vKgUEjJ4VeB",
        "colab_type": "text"
      },
      "source": [
        "# **Consultas com Junção e Ordenação:**\n",
        "\n",
        "**Faz a junção de todas as tabelas:**"
      ]
    },
    {
      "cell_type": "code",
      "metadata": {
        "id": "m7sdA-v44fXH",
        "colab_type": "code",
        "colab": {}
      },
      "source": [
        "juncaoOrdenacao1 = pd.read_sql_query(\"\"\"SELECT cliente.nome_completo AS nome_cliente, contato.telefone, endereco, endereco.numero, bairro.nome as bairro, cidade.nome as cidade, servico.nome as servico, modo as pagamento, MAX(avaliacao) AS Avaliacao_maxima FROM agendamento INNER JOIN servico ON (agendamento.codigo_servico = servico.codigo) INNER JOIN usuario AS cliente ON (agendamento.codigo_cliente = cliente.codigo) INNER JOIN endereco ON (agendamento.codigo_endereco = endereco.codigo) INNER JOIN cidade ON (endereco.codigo_cidade = cidade.codigo) INNER JOIN bairro ON (endereco.codigo_bairro = bairro.codigo) \n",
        "                                        INNER JOIN contato ON (cliente.codigo = contato.codigo_usuario) \n",
        "                                        INNER JOIN modo_pagamento ON (servico.codigo_modo_pagamento = modo_pagamento.codigo) \n",
        "                                        INNER JOIN avaliacoes ON (avaliacoes.codigo_servico = servico.codigo)\n",
        "                                        GROUP BY cliente.nome_completo, contato.telefone, endereco, endereco.numero, bairro.nome, cidade.nome, servico.nome, modo;\n",
        "                                        \"\"\",conn)\n",
        "juncaoOrdenacao1"
      ],
      "execution_count": 0,
      "outputs": []
    },
    {
      "cell_type": "markdown",
      "metadata": {
        "id": "eYDsFpf14rrr",
        "colab_type": "text"
      },
      "source": [
        "**Faz junção das tabelas Serviço, Usuário e Agendamento. Mostrando o nome do serviço que será prestado, o dia e a hora do agendamento, nome do cliente e nome do prestador:**"
      ]
    },
    {
      "cell_type": "code",
      "metadata": {
        "id": "Lrvd02Gp4fc1",
        "colab_type": "code",
        "colab": {}
      },
      "source": [
        "juncaoOrdenacao2 = pd.read_sql_query(\"\"\"SELECT nome AS \"Nome Servico\", usuario.nome_completo AS \"Nome Cliente\", prestador.nome_completo AS \"Nome Prestador\", hora,data FROM servico  \n",
        "                                        INNER JOIN usuario ON (servico.codigo_prestador = usuario.codigo) \n",
        "                                        INNER JOIN agendamento ON (agendamento.codigo_cliente = usuario.codigo) \n",
        "                                        INNER JOIN usuario AS prestador ON (prestador.codigo = servico.codigo_prestador);\n",
        "                                        \"\"\",conn)\n",
        "juncaoOrdenacao2"
      ],
      "execution_count": 0,
      "outputs": []
    },
    {
      "cell_type": "markdown",
      "metadata": {
        "id": "XvWJsXRV4saz",
        "colab_type": "text"
      },
      "source": [
        "**Faz junção das tabelas Cidade, Usuário, Serviço. Mostrando o nome da cidade que estão localizado os prestadores de serviço e o nome dos serviços:**"
      ]
    },
    {
      "cell_type": "code",
      "metadata": {
        "id": "xVQ34R-L4fiq",
        "colab_type": "code",
        "colab": {}
      },
      "source": [
        "juncaoOrdenacao3 = pd.read_sql_query(\"\"\"SELECT cidade.nome AS \"Nome cidade\", servico.nome FROM usuario INNER JOIN usuario_endereco AS ue ON (usuario.codigo = ue.codigo_usuario) \n",
        "                                        INNER JOIN endereco ON (ue.codigo_endereco = endereco.codigo) \n",
        "                                        INNER JOIN servico ON (usuario.codigo = servico.codigo_prestador) \n",
        "                                        INNER JOIN cidade ON (cidade.codigo = endereco.codigo_cidade);\n",
        "                                        \"\"\",conn)\n",
        "juncaoOrdenacao3"
      ],
      "execution_count": 0,
      "outputs": []
    },
    {
      "cell_type": "markdown",
      "metadata": {
        "id": "AbH1FjRw4s7F",
        "colab_type": "text"
      },
      "source": [
        "**Faz junção das tabelas Serviço, Usuário e Agendamento. Mostrando a quantidade de agendamentos por prestador de serviço:**"
      ]
    },
    {
      "cell_type": "code",
      "metadata": {
        "id": "vV7vRVta4fpl",
        "colab_type": "code",
        "colab": {}
      },
      "source": [
        "juncaoOrdenacao4 = pd.read_sql_query(\"\"\"SELECT usuario.nome_completo AS \"Prestador\", servico.nome AS \"Nome do servico\", COUNT(*) AS \"Quantidade de agendamentos feitos\" FROM usuario \n",
        "                                        INNER JOIN servico ON (usuario.codigo = servico.codigo_prestador) \n",
        "                                        INNER JOIN agendamento ON (agendamento.codigo_servico = servico.codigo) \n",
        "                                        GROUP BY usuario.nome_completo, servico.nome ORDER BY COUNT(*) DESC;\n",
        "                                        \"\"\",conn)\n",
        "juncaoOrdenacao4"
      ],
      "execution_count": 0,
      "outputs": []
    },
    {
      "cell_type": "markdown",
      "metadata": {
        "id": "LavaA1yq4tdi",
        "colab_type": "text"
      },
      "source": [
        "**Faz junção das tabelas Serviço e Avaliações. Mostrando o nome do serviço, a descrição e as avaliações recebidas:**"
      ]
    },
    {
      "cell_type": "code",
      "metadata": {
        "id": "nlmC5VZ14f1H",
        "colab_type": "code",
        "colab": {}
      },
      "source": [
        "juncaoOrdenacao5 = pd.read_sql_query(\"\"\"SELECT nome, descricao, avaliacao, comentario FROM servico INNER JOIN avaliacoes ON (servico.codigo = avaliacoes.codigo_servico);\"\"\",conn)\n",
        "juncaoOrdenacao5"
      ],
      "execution_count": 0,
      "outputs": []
    },
    {
      "cell_type": "markdown",
      "metadata": {
        "id": "UVda9oQ74uAO",
        "colab_type": "text"
      },
      "source": [
        "**Faz junção das tabelas Avaliações, Usuário e Contato. Mostrando o nome do serviço, telefone do prestador, a menor avaliação recebida, a maior avaliação recebida e a média de avaliações recebidas:**"
      ]
    },
    {
      "cell_type": "code",
      "metadata": {
        "id": "W7A-VB4e4f7h",
        "colab_type": "code",
        "colab": {}
      },
      "source": [
        "juncaoOrdenacao6 = pd.read_sql_query(\"\"\"SELECT servico.nome, telefone, min(avaliacao) AS \"Menor avaliacao\", max(avaliacao) AS \"Maior avaliacao\" FROM servico \n",
        "                                        INNER JOIN avaliacoes ON (servico.codigo = avaliacoes.codigo_servico) INNER JOIN usuario ON (usuario.codigo = servico.codigo_prestador) \n",
        "                                        INNER JOIN contato ON (usuario.codigo = contato.codigo_usuario) \n",
        "                                        GROUP BY servico.nome, telefone;\n",
        "                                        \"\"\",conn)\n",
        "juncaoOrdenacao6"
      ],
      "execution_count": 0,
      "outputs": []
    },
    {
      "cell_type": "markdown",
      "metadata": {
        "id": "PbMvRIzR7mxU",
        "colab_type": "text"
      },
      "source": [
        "# **Consultas com Group By e Funções de Agrupamento:**\n",
        "\n",
        "**Exibe a quantidade de usuários por sexo:**"
      ]
    },
    {
      "cell_type": "code",
      "metadata": {
        "id": "gy5o6cYf75EX",
        "colab_type": "code",
        "colab": {}
      },
      "source": [
        "groupBy1 = pd.read_sql_query(\"\"\"SELECT sexo, COUNT(  *  ) AS \"Quantidade\"  FROM usuario GROUP BY sexo; \"\"\",conn)\n",
        "groupBy1"
      ],
      "execution_count": 0,
      "outputs": []
    },
    {
      "cell_type": "markdown",
      "metadata": {
        "id": "nh8I6Es-8F7z",
        "colab_type": "text"
      },
      "source": [
        "**Exibe a quantidade de usuários por cidade:**"
      ]
    },
    {
      "cell_type": "code",
      "metadata": {
        "id": "llnGM0aA75P8",
        "colab_type": "code",
        "colab": {}
      },
      "source": [
        "groupBy2 = pd.read_sql_query(\"\"\"SELECT cidade.nome, COUNT( * ) AS \"Quantidade\" FROM endereco \n",
        "                                INNER JOIN cidade ON (cidade.codigo = endereco.codigo_cidade) \n",
        "                                GROUP BY cidade.nome;\n",
        "                                \"\"\",conn)\n",
        "groupBy2"
      ],
      "execution_count": 0,
      "outputs": []
    },
    {
      "cell_type": "markdown",
      "metadata": {
        "id": "dkSnAOuW8GWP",
        "colab_type": "text"
      },
      "source": [
        "**Exibe a quantidade de usuários por bairro:**"
      ]
    },
    {
      "cell_type": "code",
      "metadata": {
        "id": "d2DX8UnE75Y0",
        "colab_type": "code",
        "colab": {}
      },
      "source": [
        "groupBy3 = pd.read_sql_query(\"\"\"SELECT bairro.nome, COUNT( * ) AS “Quantidade” FROM endereco INNER JOIN bairro ON (bairro.codigo = endereco.codigo_bairro) GROUP BY bairro.nome;\"\"\",conn)\n",
        "groupBy3"
      ],
      "execution_count": 0,
      "outputs": []
    },
    {
      "cell_type": "markdown",
      "metadata": {
        "id": "DUn66Q2n8Gzo",
        "colab_type": "text"
      },
      "source": [
        "**Exibe a quantidade de avaliações que foram feitas em cada nota:**"
      ]
    },
    {
      "cell_type": "code",
      "metadata": {
        "id": "vO1w8fS375iD",
        "colab_type": "code",
        "colab": {}
      },
      "source": [
        "groupBy4 = pd.read_sql_query(\"\"\"SELECT avaliacao, COUNT(*) AS \"Quantidade\" FROM avaliacoes GROUP BY avaliacao ORDER BY avaliacao DESC;\"\"\",conn)\n",
        "groupBy4"
      ],
      "execution_count": 0,
      "outputs": []
    },
    {
      "cell_type": "markdown",
      "metadata": {
        "id": "nsey78b08HUf",
        "colab_type": "text"
      },
      "source": [
        "**Exibe a média de preço dos serviço cadastrados no sistema:**"
      ]
    },
    {
      "cell_type": "code",
      "metadata": {
        "id": "vSgbvxT175qF",
        "colab_type": "code",
        "colab": {}
      },
      "source": [
        "groupBy5 = pd.read_sql_query(\"\"\"SELECT AVG(NULLIF(preco,0)) AS \"Media de precos\" FROM servico;\"\"\",conn)\n",
        "groupBy5"
      ],
      "execution_count": 0,
      "outputs": []
    },
    {
      "cell_type": "markdown",
      "metadata": {
        "id": "bi4gQLM88Hw3",
        "colab_type": "text"
      },
      "source": [
        "**Exibe o código do serviço e a quantidade de agendamento realizada para os mesmos:**"
      ]
    },
    {
      "cell_type": "code",
      "metadata": {
        "id": "v4thRGQY75wT",
        "colab_type": "code",
        "colab": {}
      },
      "source": [
        "groupBy6 = pd.read_sql_query(\"\"\"SELECT codigo_servico, COUNT ( * ) AS qtd_agendamentos FROM agendamento GROUP BY codigo_servico;\"\"\",conn)\n",
        "groupBy6"
      ],
      "execution_count": 0,
      "outputs": []
    },
    {
      "cell_type": "markdown",
      "metadata": {
        "id": "Sq-GghJf96-1",
        "colab_type": "text"
      },
      "source": [
        "# **Consultas com Left e Right Join:** \n",
        "\n",
        "**Exibe o nome completo dos usuários que não são prestadores de serviço:**"
      ]
    },
    {
      "cell_type": "code",
      "metadata": {
        "id": "kxFHJt4R-IlE",
        "colab_type": "code",
        "colab": {}
      },
      "source": [
        "leftRight1 = pd.read_sql_query(\"\"\"SELECT nome_completo FROM usuario \n",
        "                                  LEFT OUTER JOIN servico ON (usuario.codigo = servico.codigo_prestador) \n",
        "                                  WHERE codigo_prestador IS NULL;\n",
        "                                  \"\"\",conn)\n",
        "leftRight1"
      ],
      "execution_count": 0,
      "outputs": []
    },
    {
      "cell_type": "markdown",
      "metadata": {
        "id": "xx_AAFjW-Jjf",
        "colab_type": "text"
      },
      "source": [
        "**Exibe o nome dos serviços que não tem avaliação:**"
      ]
    },
    {
      "cell_type": "code",
      "metadata": {
        "id": "nCu5wY1X-Irg",
        "colab_type": "code",
        "colab": {}
      },
      "source": [
        "leftRight2 = pd.read_sql_query(\"\"\"SELECT nome AS nome_servico, descricao FROM servico \n",
        "                                  LEFT OUTER JOIN avaliacoes ON (servico.codigo = avaliacoes.codigo_servico) \n",
        "                                  WHERE codigo_servico IS NULL;\n",
        "                                  \"\"\",conn)\n",
        "leftRight2"
      ],
      "execution_count": 0,
      "outputs": []
    },
    {
      "cell_type": "markdown",
      "metadata": {
        "id": "9y3CTOY8-JGu",
        "colab_type": "text"
      },
      "source": [
        "**Exibe o nome completo e endereço dos usuários:**\n"
      ]
    },
    {
      "cell_type": "code",
      "metadata": {
        "id": "u9AHUKHC-IeD",
        "colab_type": "code",
        "colab": {}
      },
      "source": [
        "leftRight3 = pd.read_sql_query(\"\"\"SELECT usuario.nome_completo, endereco.cep FROM usuario \n",
        "                                  LEFT OUTER JOIN usuario_endereco AS ue ON (usuario.codigo = ue.codigo_usuario) \n",
        "                                  LEFT OUTER JOIN endereco ON (ue.codigo_endereco = endereco.codigo);\n",
        "                                  \"\"\",conn)\n",
        "leftRight3"
      ],
      "execution_count": 0,
      "outputs": []
    },
    {
      "cell_type": "markdown",
      "metadata": {
        "id": "CxWObDXX-h8w",
        "colab_type": "text"
      },
      "source": [
        "**Exibe o nome completo dos usuários que prestam algum tipo de serviço:**"
      ]
    },
    {
      "cell_type": "code",
      "metadata": {
        "id": "eWCxnAep-qI-",
        "colab_type": "code",
        "colab": {}
      },
      "source": [
        "leftRight4 = pd.read_sql_query(\"\"\"SELECT usuario.nome_completo, servico.nome FROM usuario \n",
        "                                  RIGHT OUTER JOIN servico ON (usuario.codigo = servico.codigo_prestador);\n",
        "                                  \"\"\",conn)\n",
        "leftRight4"
      ],
      "execution_count": 0,
      "outputs": []
    },
    {
      "cell_type": "markdown",
      "metadata": {
        "id": "Y3zgq8MOQulY",
        "colab_type": "text"
      },
      "source": [
        "# **Consultas com Self Join e View:**\n",
        "\n",
        "**Exibe a View com os nomes e endereços dos usuários cadastrados no sistema:**"
      ]
    },
    {
      "cell_type": "code",
      "metadata": {
        "id": "kH90Ul9y1rau",
        "colab_type": "code",
        "colab": {}
      },
      "source": [
        "cur.execute(\"\"\"CREATE VIEW nome_e_endereco_usuario AS SELECT usuario.nome_completo, endereco.endereco AS rua, endereco.numero AS numero_casa , bairro.nome AS nome_bairro, cidade.nome AS nome_cidade FROM usuario \n",
        "                              INNER JOIN usuario_endereco AS ue ON (usuario.codigo = ue.codigo_usuario) \n",
        "                              INNER JOIN endereco ON (ue.codigo_endereco = endereco.codigo) \n",
        "                              INNER JOIN bairro ON (endereco.codigo_bairro = bairro.codigo)\n",
        "                              INNER JOIN cidade ON (endereco.codigo_cidade = cidade.codigo);\n",
        "                              \"\"\")"
      ],
      "execution_count": 0,
      "outputs": []
    },
    {
      "cell_type": "code",
      "metadata": {
        "id": "fOUsZKWCQ2tr",
        "colab_type": "code",
        "colab": {}
      },
      "source": [
        "view1 = pd.read_sql_query(\"\"\"SELECT * FROM nome_e_endereco_usuario;\"\"\",conn)\n",
        "view1"
      ],
      "execution_count": 0,
      "outputs": []
    },
    {
      "cell_type": "markdown",
      "metadata": {
        "id": "4r-Ol2DtRCN7",
        "colab_type": "text"
      },
      "source": [
        "**Exibe a View com os nomes dos usuários e telefone dos mesmos:**"
      ]
    },
    {
      "cell_type": "code",
      "metadata": {
        "id": "ntl9U6-s11yN",
        "colab_type": "code",
        "colab": {}
      },
      "source": [
        "cur.execute(\"\"\"CREATE VIEW nome_e_contato AS SELECT nome_completo, telefone FROM usuario INNER JOIN contato ON (usuario.codigo = contato.codigo_usuario);\"\"\")"
      ],
      "execution_count": 0,
      "outputs": []
    },
    {
      "cell_type": "code",
      "metadata": {
        "id": "v4faQJxTQ3Zq",
        "colab_type": "code",
        "colab": {}
      },
      "source": [
        "view2 = pd.read_sql_query(\"\"\"SELECT * FROM nome_e_contato;\"\"\",conn)\n",
        "view2"
      ],
      "execution_count": 0,
      "outputs": []
    },
    {
      "cell_type": "markdown",
      "metadata": {
        "id": "s0yDIN01Q6ti",
        "colab_type": "text"
      },
      "source": [
        "**Exibe a View com os nomes dos serviços e preço dos mesmos:**"
      ]
    },
    {
      "cell_type": "code",
      "metadata": {
        "id": "_afezKgB12U9",
        "colab_type": "code",
        "colab": {}
      },
      "source": [
        "cur.execute(\"\"\"CREATE VIEW servicos_e_precos  AS SELECT nome, preco FROM servico;\"\"\")"
      ],
      "execution_count": 0,
      "outputs": []
    },
    {
      "cell_type": "code",
      "metadata": {
        "id": "3p-UAmlEQ3pa",
        "colab_type": "code",
        "colab": {}
      },
      "source": [
        "view3 = pd.read_sql_query(\"\"\"SELECT * FROM servicos_e_precos;\"\"\",conn)\n",
        "view3"
      ],
      "execution_count": 0,
      "outputs": []
    },
    {
      "cell_type": "markdown",
      "metadata": {
        "id": "yqmnVfDsQ7S4",
        "colab_type": "text"
      },
      "source": [
        "**Exibe a View com os nomes dos serviços e as avaliações de cada serviço:**"
      ]
    },
    {
      "cell_type": "code",
      "metadata": {
        "id": "YOadHLrn12ym",
        "colab_type": "code",
        "colab": {}
      },
      "source": [
        "cur.execute(\"\"\"CREATE VIEW servico_e_avaliacao  AS SELECT servico.nome, avaliacao FROM servico INNER JOIN avaliacoes ON (servico.codigo = avaliacoes.codigo_servico);\"\"\")"
      ],
      "execution_count": 0,
      "outputs": []
    },
    {
      "cell_type": "code",
      "metadata": {
        "id": "yrNDy6gEQ4Am",
        "colab_type": "code",
        "colab": {}
      },
      "source": [
        "view4 = pd.read_sql_query(\"\"\"SELECT * FROM servico_e_avaliacao;\"\"\",conn)\n",
        "view4"
      ],
      "execution_count": 0,
      "outputs": []
    },
    {
      "cell_type": "markdown",
      "metadata": {
        "id": "Ia3iEv4VQ75o",
        "colab_type": "text"
      },
      "source": [
        "**Exibe a View com nome do usuário e o email do mesmo:**"
      ]
    },
    {
      "cell_type": "code",
      "metadata": {
        "id": "LFD4p-U813OI",
        "colab_type": "code",
        "colab": {}
      },
      "source": [
        "cur.execute(\"\"\"CREATE VIEW contato_eletronico_usuario AS SELECT nome_completo, email, nome_usuario FROM usuario;\"\"\")"
      ],
      "execution_count": 0,
      "outputs": []
    },
    {
      "cell_type": "code",
      "metadata": {
        "id": "gCKT0XH1Q4v0",
        "colab_type": "code",
        "colab": {}
      },
      "source": [
        "view5 = pd.read_sql_query(\"\"\"SELECT * FROM contato_eletronico_usuario;\"\"\",conn)\n",
        "view5"
      ],
      "execution_count": 0,
      "outputs": []
    },
    {
      "cell_type": "markdown",
      "metadata": {
        "id": "L4FMOT91Q8lU",
        "colab_type": "text"
      },
      "source": [
        "**Exibe a View com os dados cadastrias de cada usuário, contendo: nome, data de nascimento, cpf nome de usuario e email:**"
      ]
    },
    {
      "cell_type": "code",
      "metadata": {
        "id": "Wtz2BD8c13ug",
        "colab_type": "code",
        "colab": {}
      },
      "source": [
        "cur.execute(\"\"\"CREATE VIEW dados_cadastrais AS SELECT nome_completo AS \"Nome Completo\", data_nascimento,cpf, nome_usuario, email FROM usuario;\"\"\")"
      ],
      "execution_count": 0,
      "outputs": []
    },
    {
      "cell_type": "code",
      "metadata": {
        "id": "ubufArm5Q5Aa",
        "colab_type": "code",
        "colab": {}
      },
      "source": [
        "view6 = pd.read_sql_query(\"\"\"SELECT * FROM dados_cadastrais;\"\"\",conn)\n",
        "view6"
      ],
      "execution_count": 0,
      "outputs": []
    },
    {
      "cell_type": "markdown",
      "metadata": {
        "id": "NCCalxnXRw6Q",
        "colab_type": "text"
      },
      "source": [
        "# **Consultas com Subconsultas:**\n",
        "\n",
        "**Exibe o nome completo e o email de cada usuário que tenha o código na tabela Serviço:**"
      ]
    },
    {
      "cell_type": "code",
      "metadata": {
        "id": "CbijRmSnR6Lc",
        "colab_type": "code",
        "colab": {}
      },
      "source": [
        "subconsulta1 = pd.read_sql_query(\"\"\"SELECT nome_completo, email FROM usuario WHERE codigo IN (SELECT codigo_prestador FROM servico);\"\"\",conn)\n",
        "subconsulta1"
      ],
      "execution_count": 0,
      "outputs": []
    },
    {
      "cell_type": "markdown",
      "metadata": {
        "id": "XgvdP8ieR7rQ",
        "colab_type": "text"
      },
      "source": [
        "**Exibe o nome do serviço que tem a maior avaliação registrada na tabela de Avaliações:**"
      ]
    },
    {
      "cell_type": "code",
      "metadata": {
        "id": "rDuo7rZ7R6X2",
        "colab_type": "code",
        "colab": {}
      },
      "source": [
        "subconsulta2 = pd.read_sql_query(\"\"\"SELECT nome AS \"Nome Servico\" FROM servico \n",
        "                                    INNER JOIN avaliacoes ON (servico.codigo = avaliacoes.codigo_servico) \n",
        "                                    WHERE avaliacao IN (SELECT MAX(avaliacao) FROM avaliacoes);\n",
        "                                    \"\"\",conn)\n",
        "subconsulta2"
      ],
      "execution_count": 0,
      "outputs": []
    },
    {
      "cell_type": "markdown",
      "metadata": {
        "id": "PZgUOpkgR8J0",
        "colab_type": "text"
      },
      "source": [
        "**Exibe o endereço, o número e o CEP do usuário que tenha o código da cidade de Vitória:**"
      ]
    },
    {
      "cell_type": "code",
      "metadata": {
        "id": "1gY5vkJKR6jk",
        "colab_type": "code",
        "colab": {}
      },
      "source": [
        "subconsulta3 = pd.read_sql_query(\"\"\"SELECT endereco, numero, cep FROM endereco WHERE codigo_cidade IN (SELECT codigo FROM cidade WHERE nome <> 'Vitoria');\"\"\",conn)\n",
        "subconsulta3"
      ],
      "execution_count": 0,
      "outputs": []
    },
    {
      "cell_type": "markdown",
      "metadata": {
        "id": "ssPUsZkI3LCE",
        "colab_type": "text"
      },
      "source": [
        "# **Relatório 1** \n",
        "\n",
        "**Objetivo:** Relatório que informe a quantidade de serviços realizados nas cidades dos clientes.\n",
        "- Resultado:"
      ]
    },
    {
      "cell_type": "code",
      "metadata": {
        "id": "RLg7Sdaf3Jbr",
        "colab_type": "code",
        "colab": {}
      },
      "source": [
        "relatorio1 = pd.read_sql_query(\"\"\"\n",
        "                              SELECT count(cidade.nome) AS qtd_de_servico_na_cidade,cidade.nome AS nome_da_cidade FROM usuario \n",
        "                              INNER JOIN servico ON (usuario.codigo = servico.codigo_prestador) \n",
        "                              INNER JOIN agendamento ON (usuario.codigo = agendamento.codigo_cliente)\n",
        "                              INNER JOIN usuario_endereco AS ue ON (usuario.codigo = ue.codigo_usuario)\n",
        "                              INNER JOIN endereco ON (ue.codigo_endereco = endereco.codigo) \n",
        "                              INNER JOIN cidade ON (cidade.codigo = endereco.codigo_cidade) group by cidade.nome;   \n",
        "                            \"\"\",conn) "
      ],
      "execution_count": 0,
      "outputs": []
    },
    {
      "cell_type": "code",
      "metadata": {
        "id": "PMS6LP-YqMCS",
        "colab_type": "code",
        "outputId": "fb2af714-04e4-4117-8348-bd38d5cb16b5",
        "colab": {
          "base_uri": "https://localhost:8080/",
          "height": 173
        }
      },
      "source": [
        "relatorio1"
      ],
      "execution_count": 0,
      "outputs": [
        {
          "output_type": "execute_result",
          "data": {
            "text/html": [
              "<div>\n",
              "<style scoped>\n",
              "    .dataframe tbody tr th:only-of-type {\n",
              "        vertical-align: middle;\n",
              "    }\n",
              "\n",
              "    .dataframe tbody tr th {\n",
              "        vertical-align: top;\n",
              "    }\n",
              "\n",
              "    .dataframe thead th {\n",
              "        text-align: right;\n",
              "    }\n",
              "</style>\n",
              "<table border=\"1\" class=\"dataframe\">\n",
              "  <thead>\n",
              "    <tr style=\"text-align: right;\">\n",
              "      <th></th>\n",
              "      <th>qtd_de_servico_na_cidade</th>\n",
              "      <th>nome_da_cidade</th>\n",
              "    </tr>\n",
              "  </thead>\n",
              "  <tbody>\n",
              "    <tr>\n",
              "      <th>0</th>\n",
              "      <td>2</td>\n",
              "      <td>Serra</td>\n",
              "    </tr>\n",
              "    <tr>\n",
              "      <th>1</th>\n",
              "      <td>3</td>\n",
              "      <td>Vila Velha</td>\n",
              "    </tr>\n",
              "    <tr>\n",
              "      <th>2</th>\n",
              "      <td>1</td>\n",
              "      <td>Cariacica</td>\n",
              "    </tr>\n",
              "    <tr>\n",
              "      <th>3</th>\n",
              "      <td>2</td>\n",
              "      <td>Cachoeiro de Itapemirim</td>\n",
              "    </tr>\n",
              "  </tbody>\n",
              "</table>\n",
              "</div>"
            ],
            "text/plain": [
              "   qtd_de_servico_na_cidade           nome_da_cidade\n",
              "0                         2                    Serra\n",
              "1                         3               Vila Velha\n",
              "2                         1                Cariacica\n",
              "3                         2  Cachoeiro de Itapemirim"
            ]
          },
          "metadata": {
            "tags": []
          },
          "execution_count": 25
        }
      ]
    },
    {
      "cell_type": "code",
      "metadata": {
        "id": "CN-nWZ-Q3xlB",
        "colab_type": "code",
        "outputId": "dd25f1e5-f8ec-4da9-ec41-81d02b0396e2",
        "colab": {
          "base_uri": "https://localhost:8080/",
          "height": 472
        }
      },
      "source": [
        "import matplotlib.pyplot as plt; plt.rcdefaults()\n",
        "import numpy as np\n",
        "import matplotlib.pyplot as plt\n",
        "grafico1 = pd.read_sql_query(\"\"\"\n",
        "                              SELECT count(cidade.nome) AS qtd_de_servico_na_cidade,cidade.nome AS nome_da_cidade FROM usuario \n",
        "                              INNER JOIN servico ON (usuario.codigo = servico.codigo_prestador) \n",
        "                              INNER JOIN agendamento ON (usuario.codigo = agendamento.codigo_cliente)\n",
        "                              INNER JOIN usuario_endereco AS ue ON (usuario.codigo = ue.codigo_usuario)\n",
        "                              INNER JOIN endereco ON (ue.codigo_endereco = endereco.codigo) \n",
        "                              INNER JOIN cidade ON (cidade.codigo = endereco.codigo_cidade) group by cidade.nome;  \n",
        "                            \"\"\",conn)\n",
        "df = pd.DataFrame(grafico1)\n",
        "cm = sns.light_palette(\"green\", as_cmap=True)\n",
        "df.style.background_gradient(cmap=cm)\n",
        "\n",
        " \n",
        "objects = tuple(df.nome_da_cidade)\n",
        "y_pos = np.arange(len(objects))\n",
        "performance = list(df.qtd_de_servico_na_cidade)\n",
        " \n",
        "plt.bar(y_pos, performance,align='center', alpha=0.9, color = \"purple\")\n",
        "plt.xticks(y_pos, objects)\n",
        "plt.ylabel('Quantidade de Serviços por Cidade')\n",
        "plt.xlabel('Nome da Cidade')\n",
        "plt.title('Serviços Realizados por Cidade')\n",
        "\n",
        "plt.show()"
      ],
      "execution_count": 0,
      "outputs": [
        {
          "output_type": "display_data",
          "data": {
            "image/png": "[encoded data removed]",
            "text/plain": [
              "<Figure size 640x480 with 1 Axes>"
            ]
          },
          "metadata": {
            "tags": []
          }
        }
      ]
    },
    {
      "cell_type": "markdown",
      "metadata": {
        "colab_type": "text",
        "id": "dEwiRz7d4E4Y"
      },
      "source": [
        "# **Relatório 2** \n",
        "\n",
        "**Objetivo:** Informar o número total de serviços agendados dos prestadores incluindo as seguintes informações: nome do serviço, descrição, categoria, preço e contato \n",
        "- Resultado:"
      ]
    },
    {
      "cell_type": "code",
      "metadata": {
        "id": "xt28qBht6ohp",
        "colab_type": "code",
        "colab": {}
      },
      "source": [
        "relatorio2 = pd.read_sql_query(\"\"\"\n",
        "                            SELECT nome_completo AS nome_prestador, nome AS nome_servico, descricao, preco FROM usuario \n",
        "                            INNER JOIN servico ON (usuario.codigo = servico.codigo_prestador);\n",
        "                            \"\"\",conn)"
      ],
      "execution_count": 0,
      "outputs": []
    },
    {
      "cell_type": "code",
      "metadata": {
        "id": "h_zX9R8nqaE4",
        "colab_type": "code",
        "outputId": "bc995b5f-1eb0-4628-b576-9eb1f2ecd693",
        "colab": {
          "base_uri": "https://localhost:8080/",
          "height": 359
        }
      },
      "source": [
        "relatorio2"
      ],
      "execution_count": 0,
      "outputs": [
        {
          "output_type": "execute_result",
          "data": {
            "text/html": [
              "<div>\n",
              "<style scoped>\n",
              "    .dataframe tbody tr th:only-of-type {\n",
              "        vertical-align: middle;\n",
              "    }\n",
              "\n",
              "    .dataframe tbody tr th {\n",
              "        vertical-align: top;\n",
              "    }\n",
              "\n",
              "    .dataframe thead th {\n",
              "        text-align: right;\n",
              "    }\n",
              "</style>\n",
              "<table border=\"1\" class=\"dataframe\">\n",
              "  <thead>\n",
              "    <tr style=\"text-align: right;\">\n",
              "      <th></th>\n",
              "      <th>nome_prestador</th>\n",
              "      <th>nome_servico</th>\n",
              "      <th>descricao</th>\n",
              "      <th>preco</th>\n",
              "    </tr>\n",
              "  </thead>\n",
              "  <tbody>\n",
              "    <tr>\n",
              "      <th>0</th>\n",
              "      <td>Kauan Rocha Pinto</td>\n",
              "      <td>Manutencao de ar-condicionado</td>\n",
              "      <td>Instalacao - Manutencao - Higienizacao ar cond...</td>\n",
              "      <td>0.0</td>\n",
              "    </tr>\n",
              "    <tr>\n",
              "      <th>1</th>\n",
              "      <td>Jose Pereira Carvalho</td>\n",
              "      <td>Frete</td>\n",
              "      <td>Faco transporte, mudancas, fretes, etc para to...</td>\n",
              "      <td>150.0</td>\n",
              "    </tr>\n",
              "    <tr>\n",
              "      <th>2</th>\n",
              "      <td>Fabio Melo Barros</td>\n",
              "      <td>Jardinagem</td>\n",
              "      <td>Corte de arvores e podas em geral</td>\n",
              "      <td>0.0</td>\n",
              "    </tr>\n",
              "    <tr>\n",
              "      <th>3</th>\n",
              "      <td>Clara Rocha Alves</td>\n",
              "      <td>Baba</td>\n",
              "      <td>Cuido de criancas com responsabilidade. Valor ...</td>\n",
              "      <td>60.0</td>\n",
              "    </tr>\n",
              "    <tr>\n",
              "      <th>4</th>\n",
              "      <td>Joao Gomes Almeida</td>\n",
              "      <td>Faxineiro</td>\n",
              "      <td>Faco faxinas</td>\n",
              "      <td>90.0</td>\n",
              "    </tr>\n",
              "    <tr>\n",
              "      <th>5</th>\n",
              "      <td>Yasmin Barros Carvalho</td>\n",
              "      <td>Eletricista</td>\n",
              "      <td>Instalacao, alteracao, manutencao e reparo em ...</td>\n",
              "      <td>0.0</td>\n",
              "    </tr>\n",
              "    <tr>\n",
              "      <th>6</th>\n",
              "      <td>Luis Carvalho Pereira</td>\n",
              "      <td>Pedreiro</td>\n",
              "      <td>Orcamento gratuito e servico de qualidade</td>\n",
              "      <td>0.0</td>\n",
              "    </tr>\n",
              "    <tr>\n",
              "      <th>7</th>\n",
              "      <td>Martim Oliveira Correia</td>\n",
              "      <td>Motorista particular</td>\n",
              "      <td>Viagens, passeios e corridas rapidas!!</td>\n",
              "      <td>0.0</td>\n",
              "    </tr>\n",
              "    <tr>\n",
              "      <th>8</th>\n",
              "      <td>Leonor Azevedo Sousa</td>\n",
              "      <td>Borracheiro</td>\n",
              "      <td>Atendimento 24 horas</td>\n",
              "      <td>80.0</td>\n",
              "    </tr>\n",
              "    <tr>\n",
              "      <th>9</th>\n",
              "      <td>Julieta Cavalcanti Rocha</td>\n",
              "      <td>Baba</td>\n",
              "      <td>Cuido de criancas ate 6 anos.</td>\n",
              "      <td>50.0</td>\n",
              "    </tr>\n",
              "  </tbody>\n",
              "</table>\n",
              "</div>"
            ],
            "text/plain": [
              "             nome_prestador  ...  preco\n",
              "0         Kauan Rocha Pinto  ...    0.0\n",
              "1     Jose Pereira Carvalho  ...  150.0\n",
              "2         Fabio Melo Barros  ...    0.0\n",
              "3         Clara Rocha Alves  ...   60.0\n",
              "4        Joao Gomes Almeida  ...   90.0\n",
              "5    Yasmin Barros Carvalho  ...    0.0\n",
              "6     Luis Carvalho Pereira  ...    0.0\n",
              "7   Martim Oliveira Correia  ...    0.0\n",
              "8      Leonor Azevedo Sousa  ...   80.0\n",
              "9  Julieta Cavalcanti Rocha  ...   50.0\n",
              "\n",
              "[10 rows x 4 columns]"
            ]
          },
          "metadata": {
            "tags": []
          },
          "execution_count": 10
        }
      ]
    },
    {
      "cell_type": "code",
      "metadata": {
        "id": "2fakR7quDKqq",
        "colab_type": "code",
        "outputId": "948d185d-5009-44b1-dfc9-f61051b5137c",
        "colab": {
          "base_uri": "https://localhost:8080/",
          "height": 472
        }
      },
      "source": [
        "import matplotlib.pyplot as plt; plt.rcdefaults() \n",
        "import numpy as np\n",
        "import matplotlib.pyplot as plt\n",
        "\n",
        "grafico2 = pd.read_sql_query(\"\"\"\n",
        "                            SELECT servico.nome, COUNT( * ) AS qtd_agendamentos FROM agendamento \n",
        "                            INNER JOIN servico ON (servico.codigo = agendamento.codigo_servico) \n",
        "                            GROUP BY servico.nome;\n",
        "                            \"\"\",conn)  \n",
        "\n",
        "df = pd.DataFrame(grafico2)\n",
        "cm = sns.light_palette(\"green\", as_cmap=True)\n",
        "df.style.background_gradient(cmap=cm)\n",
        " \n",
        "objects = tuple(df.nome)\n",
        "y_pos = np.arange(len(objects))\n",
        "performance = list(df.qtd_agendamentos)\n",
        " \n",
        "plt.barh(y_pos, performance, align='center', alpha= 0.9, color = \"orange\")\n",
        "plt.yticks(y_pos, objects)\n",
        "plt.xlabel('Quantidade de Agendamento')\n",
        "plt.ylabel('Serviços')\n",
        "plt.title('Total de Agendamento por serviço')\n",
        "\n",
        "plt.show()"
      ],
      "execution_count": 0,
      "outputs": [
        {
          "output_type": "display_data",
          "data": {
            "image/png": "[encoded data removed]",
            "text/plain": [
              "<Figure size 640x480 with 1 Axes>"
            ]
          },
          "metadata": {
            "tags": []
          }
        }
      ]
    },
    {
      "cell_type": "markdown",
      "metadata": {
        "colab_type": "text",
        "id": "LkyvrgMK4T5O"
      },
      "source": [
        "# **Relatório 3** \n",
        "\n",
        "**Objetivo:** Informar serviços agendados para um determinado dia incluindo as seguintes informações: nome do cliente, descrição do serviço, data, hora e localização. \n",
        "- Resultado:"
      ]
    },
    {
      "cell_type": "code",
      "metadata": {
        "id": "hRqTpMEeSY4p",
        "colab_type": "code",
        "colab": {}
      },
      "source": [
        "relatorio3 = pd.read_sql_query(\"\"\"\n",
        "                              SELECT nome_completo AS nome_cliente, servico.nome AS \"servico_contratado\", agendamento.data,agendamento.hora, cidade.nome AS nome_da_cidade FROM usuario \n",
        "                              INNER JOIN usuario_endereco AS ue ON (usuario.codigo = ue.codigo_usuario)\n",
        "                              INNER JOIN servico ON (usuario.codigo = servico.codigo_prestador) \n",
        "                              INNER JOIN agendamento ON (usuario.codigo = agendamento.codigo_cliente) \n",
        "                              INNER JOIN endereco ON (ue.codigo_endereco = endereco.codigo) \n",
        "                              INNER JOIN cidade ON (cidade.codigo = endereco.codigo_cidade);   \n",
        "                            \"\"\",conn)"
      ],
      "execution_count": 0,
      "outputs": []
    },
    {
      "cell_type": "code",
      "metadata": {
        "id": "0NcUQr5gVI3N",
        "colab_type": "code",
        "outputId": "113c1088-4b90-47bd-89ca-4b9a37047cab",
        "colab": {
          "base_uri": "https://localhost:8080/",
          "height": 297
        }
      },
      "source": [
        "relatorio3"
      ],
      "execution_count": 0,
      "outputs": [
        {
          "output_type": "execute_result",
          "data": {
            "text/html": [
              "<div>\n",
              "<style scoped>\n",
              "    .dataframe tbody tr th:only-of-type {\n",
              "        vertical-align: middle;\n",
              "    }\n",
              "\n",
              "    .dataframe tbody tr th {\n",
              "        vertical-align: top;\n",
              "    }\n",
              "\n",
              "    .dataframe thead th {\n",
              "        text-align: right;\n",
              "    }\n",
              "</style>\n",
              "<table border=\"1\" class=\"dataframe\">\n",
              "  <thead>\n",
              "    <tr style=\"text-align: right;\">\n",
              "      <th></th>\n",
              "      <th>nome_cliente</th>\n",
              "      <th>servico_contratado</th>\n",
              "      <th>data</th>\n",
              "      <th>hora</th>\n",
              "      <th>nome_da_cidade</th>\n",
              "    </tr>\n",
              "  </thead>\n",
              "  <tbody>\n",
              "    <tr>\n",
              "      <th>0</th>\n",
              "      <td>Fabio Melo Barros</td>\n",
              "      <td>Jardinagem</td>\n",
              "      <td>2019-11-03</td>\n",
              "      <td>14h00</td>\n",
              "      <td>Serra</td>\n",
              "    </tr>\n",
              "    <tr>\n",
              "      <th>1</th>\n",
              "      <td>Fabio Melo Barros</td>\n",
              "      <td>Jardinagem</td>\n",
              "      <td>2019-10-12</td>\n",
              "      <td>11h00</td>\n",
              "      <td>Serra</td>\n",
              "    </tr>\n",
              "    <tr>\n",
              "      <th>2</th>\n",
              "      <td>Clara Rocha Alves</td>\n",
              "      <td>Baba</td>\n",
              "      <td>2019-09-09</td>\n",
              "      <td>7h00</td>\n",
              "      <td>Cariacica</td>\n",
              "    </tr>\n",
              "    <tr>\n",
              "      <th>3</th>\n",
              "      <td>Joao Gomes Almeida</td>\n",
              "      <td>Faxineiro</td>\n",
              "      <td>2019-10-02</td>\n",
              "      <td>20h00</td>\n",
              "      <td>Vila Velha</td>\n",
              "    </tr>\n",
              "    <tr>\n",
              "      <th>4</th>\n",
              "      <td>Martim Oliveira Correia</td>\n",
              "      <td>Motorista particular</td>\n",
              "      <td>2019-10-01</td>\n",
              "      <td>17h00</td>\n",
              "      <td>Cachoeiro de Itapemirim</td>\n",
              "    </tr>\n",
              "    <tr>\n",
              "      <th>5</th>\n",
              "      <td>Martim Oliveira Correia</td>\n",
              "      <td>Motorista particular</td>\n",
              "      <td>2019-09-27</td>\n",
              "      <td>20h00</td>\n",
              "      <td>Cachoeiro de Itapemirim</td>\n",
              "    </tr>\n",
              "    <tr>\n",
              "      <th>6</th>\n",
              "      <td>Luis Carvalho Pereira</td>\n",
              "      <td>Pedreiro</td>\n",
              "      <td>2019-09-17</td>\n",
              "      <td>14h30</td>\n",
              "      <td>Vila Velha</td>\n",
              "    </tr>\n",
              "    <tr>\n",
              "      <th>7</th>\n",
              "      <td>Luis Carvalho Pereira</td>\n",
              "      <td>Pedreiro</td>\n",
              "      <td>2019-09-24</td>\n",
              "      <td>12h00</td>\n",
              "      <td>Vila Velha</td>\n",
              "    </tr>\n",
              "  </tbody>\n",
              "</table>\n",
              "</div>"
            ],
            "text/plain": [
              "              nome_cliente  ...           nome_da_cidade\n",
              "0        Fabio Melo Barros  ...                    Serra\n",
              "1        Fabio Melo Barros  ...                    Serra\n",
              "2        Clara Rocha Alves  ...                Cariacica\n",
              "3       Joao Gomes Almeida  ...               Vila Velha\n",
              "4  Martim Oliveira Correia  ...  Cachoeiro de Itapemirim\n",
              "5  Martim Oliveira Correia  ...  Cachoeiro de Itapemirim\n",
              "6    Luis Carvalho Pereira  ...               Vila Velha\n",
              "7    Luis Carvalho Pereira  ...               Vila Velha\n",
              "\n",
              "[8 rows x 5 columns]"
            ]
          },
          "metadata": {
            "tags": []
          },
          "execution_count": 13
        }
      ]
    },
    {
      "cell_type": "code",
      "metadata": {
        "id": "7cpQnqO_VO8v",
        "colab_type": "code",
        "outputId": "e2d8ebd3-35c5-45dd-bbc9-66ca23f4eea6",
        "colab": {
          "base_uri": "https://localhost:8080/",
          "height": 472
        }
      },
      "source": [
        "import matplotlib.pyplot as plt; plt.rcdefaults()\n",
        "import numpy as np\n",
        "import matplotlib.pyplot as plt\n",
        "grafico3 = pd.read_sql_query(\"\"\"\n",
        "                              SELECT COUNT(*) AS qtd_agendamento, nome_completo AS nome_cliente FROM usuario \n",
        "                              INNER JOIN usuario_endereco AS ue ON (usuario.codigo = ue.codigo_usuario)\n",
        "                              INNER JOIN servico ON (usuario.codigo = servico.codigo_prestador) INNER JOIN agendamento ON (usuario.codigo = agendamento.codigo_cliente) \n",
        "                              INNER JOIN endereco ON (ue.codigo_endereco = endereco.codigo) \n",
        "                              INNER JOIN cidade ON (cidade.codigo = endereco.codigo_cidade) GROUP BY nome_cliente;  \n",
        "                            \"\"\",conn)\n",
        "df = pd.DataFrame(grafico3)\n",
        "cm = sns.light_palette(\"green\", as_cmap=True)\n",
        "df.style.background_gradient(cmap=cm)\n",
        "\n",
        " \n",
        "objects = tuple(df.nome_cliente)\n",
        "y_pos = np.arange(len(objects))\n",
        "performance = list(df.qtd_agendamento)\n",
        " \n",
        "plt.barh(y_pos, performance,align='center', alpha=0.9, color = \"green\")\n",
        "plt.yticks(y_pos, objects)\n",
        "plt.ylabel('Nome do cliente')\n",
        "plt.xlabel('Quantidade de serviços contratados')\n",
        "plt.title('Serviços Contratados por Usuário')\n",
        "\n",
        "plt.show()"
      ],
      "execution_count": 0,
      "outputs": [
        {
          "output_type": "display_data",
          "data": {
            "image/png": "[encoded data removed]",
            "text/plain": [
              "<Figure size 640x480 with 1 Axes>"
            ]
          },
          "metadata": {
            "tags": []
          }
        }
      ]
    },
    {
      "cell_type": "markdown",
      "metadata": {
        "colab_type": "text",
        "id": "YZiSEap24aG-"
      },
      "source": [
        "# **Relatório 4** \n",
        "\n",
        "**Objetivo:** Informar avaliações e comentários recebidos para um determinado serviço. \n",
        "- Resultado:"
      ]
    },
    {
      "cell_type": "code",
      "metadata": {
        "id": "-v-hc-k-7KrS",
        "colab_type": "code",
        "colab": {}
      },
      "source": [
        "relatorio4 = pd.read_sql_query(\"\"\"\n",
        "                            SELECT nome AS nome_do_servico, avaliacao, comentario FROM avaliacoes INNER JOIN servico ON (servico.codigo = avaliacoes.codigo_servico);\n",
        "                            \"\"\",conn)"
      ],
      "execution_count": 0,
      "outputs": []
    },
    {
      "cell_type": "code",
      "metadata": {
        "id": "eDpXeUtlqqwQ",
        "colab_type": "code",
        "outputId": "c7c18317-eff3-404f-bfa0-10034aecd2be",
        "colab": {
          "base_uri": "https://localhost:8080/",
          "height": 359
        }
      },
      "source": [
        "relatorio4"
      ],
      "execution_count": 0,
      "outputs": [
        {
          "output_type": "execute_result",
          "data": {
            "text/html": [
              "<div>\n",
              "<style scoped>\n",
              "    .dataframe tbody tr th:only-of-type {\n",
              "        vertical-align: middle;\n",
              "    }\n",
              "\n",
              "    .dataframe tbody tr th {\n",
              "        vertical-align: top;\n",
              "    }\n",
              "\n",
              "    .dataframe thead th {\n",
              "        text-align: right;\n",
              "    }\n",
              "</style>\n",
              "<table border=\"1\" class=\"dataframe\">\n",
              "  <thead>\n",
              "    <tr style=\"text-align: right;\">\n",
              "      <th></th>\n",
              "      <th>nome_do_servico</th>\n",
              "      <th>avaliacao</th>\n",
              "      <th>comentario</th>\n",
              "    </tr>\n",
              "  </thead>\n",
              "  <tbody>\n",
              "    <tr>\n",
              "      <th>0</th>\n",
              "      <td>Manutencao de ar-condicionado</td>\n",
              "      <td>4</td>\n",
              "      <td>Muito bom</td>\n",
              "    </tr>\n",
              "    <tr>\n",
              "      <th>1</th>\n",
              "      <td>Frete</td>\n",
              "      <td>5</td>\n",
              "      <td>Perfeito, resolveu todo o meu problema. Servic...</td>\n",
              "    </tr>\n",
              "    <tr>\n",
              "      <th>2</th>\n",
              "      <td>Jardinagem</td>\n",
              "      <td>5</td>\n",
              "      <td>Ficou tudo perfeito, amei</td>\n",
              "    </tr>\n",
              "    <tr>\n",
              "      <th>3</th>\n",
              "      <td>Baba</td>\n",
              "      <td>5</td>\n",
              "      <td>Meu filho adorou</td>\n",
              "    </tr>\n",
              "    <tr>\n",
              "      <th>4</th>\n",
              "      <td>Faxineiro</td>\n",
              "      <td>0</td>\n",
              "      <td>Atrasou e nao limpou o banheiro</td>\n",
              "    </tr>\n",
              "    <tr>\n",
              "      <th>5</th>\n",
              "      <td>Manutencao de ar-condicionado</td>\n",
              "      <td>3</td>\n",
              "      <td>Resolveu o problema</td>\n",
              "    </tr>\n",
              "    <tr>\n",
              "      <th>6</th>\n",
              "      <td>Borracheiro</td>\n",
              "      <td>5</td>\n",
              "      <td>Atendimento rapido</td>\n",
              "    </tr>\n",
              "    <tr>\n",
              "      <th>7</th>\n",
              "      <td>Pedreiro</td>\n",
              "      <td>4</td>\n",
              "      <td>Muito organizado e deixa tudo limpo</td>\n",
              "    </tr>\n",
              "    <tr>\n",
              "      <th>8</th>\n",
              "      <td>Baba</td>\n",
              "      <td>5</td>\n",
              "      <td>Muito simpatica</td>\n",
              "    </tr>\n",
              "    <tr>\n",
              "      <th>9</th>\n",
              "      <td>Motorista particular</td>\n",
              "      <td>4</td>\n",
              "      <td>Carro limpo e com balinha</td>\n",
              "    </tr>\n",
              "  </tbody>\n",
              "</table>\n",
              "</div>"
            ],
            "text/plain": [
              "                 nome_do_servico  ...                                         comentario\n",
              "0  Manutencao de ar-condicionado  ...                                          Muito bom\n",
              "1                          Frete  ...  Perfeito, resolveu todo o meu problema. Servic...\n",
              "2                     Jardinagem  ...                          Ficou tudo perfeito, amei\n",
              "3                           Baba  ...                                   Meu filho adorou\n",
              "4                      Faxineiro  ...                    Atrasou e nao limpou o banheiro\n",
              "5  Manutencao de ar-condicionado  ...                                Resolveu o problema\n",
              "6                    Borracheiro  ...                                 Atendimento rapido\n",
              "7                       Pedreiro  ...                Muito organizado e deixa tudo limpo\n",
              "8                           Baba  ...                                    Muito simpatica\n",
              "9           Motorista particular  ...                          Carro limpo e com balinha\n",
              "\n",
              "[10 rows x 3 columns]"
            ]
          },
          "metadata": {
            "tags": []
          },
          "execution_count": 16
        }
      ]
    },
    {
      "cell_type": "code",
      "metadata": {
        "id": "kXGRxmHBOCUs",
        "colab_type": "code",
        "outputId": "60a875ca-33bd-4590-9e62-953877d576c6",
        "colab": {
          "base_uri": "https://localhost:8080/",
          "height": 472
        }
      },
      "source": [
        "import matplotlib.pyplot as plt; plt.rcdefaults() \n",
        "import numpy as np\n",
        "import matplotlib.pyplot as plt\n",
        "grafico4 = pd.read_sql_query(\"\"\"SELECT avaliacao, COUNT(*) AS qtd_de_avaliacoes FROM avaliacoes GROUP BY avaliacao ORDER BY avaliacao DESC;\"\"\",conn)\n",
        "\n",
        "df = pd.DataFrame(grafico4)\n",
        "cm = sns.light_palette(\"green\", as_cmap=True)\n",
        "df.style.background_gradient(cmap=cm)\n",
        "\n",
        " \n",
        "objects = tuple(df.avaliacao)\n",
        "y_pos = np.arange(len(objects))\n",
        "performance = list(df.qtd_de_avaliacoes)\n",
        " \n",
        "plt.bar(y_pos, performance, align='center', alpha=0.9, color = \"red\")\n",
        "plt.xticks(y_pos, objects)\n",
        "plt.ylabel('Quantidade de servicos avaliados')\n",
        "plt.xlabel('Avaliacao')\n",
        "plt.title('Avaliações Realizadas')\n",
        " \n",
        "plt.show()"
      ],
      "execution_count": 0,
      "outputs": [
        {
          "output_type": "display_data",
          "data": {
            "image/png": "[encoded data removed]",
            "text/plain": [
              "<Figure size 640x480 with 1 Axes>"
            ]
          },
          "metadata": {
            "tags": []
          }
        }
      ]
    },
    {
      "cell_type": "markdown",
      "metadata": {
        "colab_type": "text",
        "id": "TNDio0wS4gCX"
      },
      "source": [
        "# **Relatório 5**  \n",
        "\n",
        "**Objetivo:** Mostrar as informações de contato de um usuário incluindo: nome do cliente, cidade, bairro, endereço e número. \n",
        "- Resultado:"
      ]
    },
    {
      "cell_type": "code",
      "metadata": {
        "id": "_7Yp_hLGSf3q",
        "colab_type": "code",
        "colab": {}
      },
      "source": [
        "relatorio5 = pd.read_sql_query(\"\"\"\n",
        "                            SELECT nome_completo AS nome_cliente,endereco AS rua, bairro.nome AS nome_do_bairro, endereco.numero AS numero_casa,cidade.nome AS nome_da_cidade, email, telefone FROM usuario \n",
        "                            INNER JOIN usuario_endereco AS ue ON (usuario.codigo = ue.codigo_usuario)\n",
        "                            INNER JOIN endereco ON (ue.codigo_endereco = endereco.codigo) \n",
        "                            INNER JOIN cidade ON (cidade.codigo = endereco.codigo_cidade) \n",
        "                            INNER JOIN bairro ON (bairro.codigo = endereco.codigo_bairro) \n",
        "                            INNER JOIN contato ON (usuario.codigo = contato.codigo_usuario); \n",
        "                            \"\"\",conn)"
      ],
      "execution_count": 0,
      "outputs": []
    },
    {
      "cell_type": "code",
      "metadata": {
        "id": "6gOyq9iKWJay",
        "colab_type": "code",
        "outputId": "94003872-af24-4ee8-c0da-2e14b64c0382",
        "colab": {
          "base_uri": "https://localhost:8080/",
          "height": 731
        }
      },
      "source": [
        "relatorio5"
      ],
      "execution_count": 0,
      "outputs": [
        {
          "output_type": "execute_result",
          "data": {
            "text/html": [
              "<div>\n",
              "<style scoped>\n",
              "    .dataframe tbody tr th:only-of-type {\n",
              "        vertical-align: middle;\n",
              "    }\n",
              "\n",
              "    .dataframe tbody tr th {\n",
              "        vertical-align: top;\n",
              "    }\n",
              "\n",
              "    .dataframe thead th {\n",
              "        text-align: right;\n",
              "    }\n",
              "</style>\n",
              "<table border=\"1\" class=\"dataframe\">\n",
              "  <thead>\n",
              "    <tr style=\"text-align: right;\">\n",
              "      <th></th>\n",
              "      <th>nome_cliente</th>\n",
              "      <th>rua</th>\n",
              "      <th>nome_do_bairro</th>\n",
              "      <th>numero_casa</th>\n",
              "      <th>nome_da_cidade</th>\n",
              "      <th>email</th>\n",
              "      <th>telefone</th>\n",
              "    </tr>\n",
              "  </thead>\n",
              "  <tbody>\n",
              "    <tr>\n",
              "      <th>0</th>\n",
              "      <td>Miguel Oliveira Souza</td>\n",
              "      <td>Rua Joao da Costa Rampinelli</td>\n",
              "      <td>De Carli</td>\n",
              "      <td>150</td>\n",
              "      <td>Aracruz</td>\n",
              "      <td>MiguelOliveiraSouza@gmail.com</td>\n",
              "      <td>(27) 4075-9797</td>\n",
              "    </tr>\n",
              "    <tr>\n",
              "      <th>1</th>\n",
              "      <td>Mariana Lima Ribeiro</td>\n",
              "      <td>Rua Atenas</td>\n",
              "      <td>Aracas</td>\n",
              "      <td>1960</td>\n",
              "      <td>Vila Velha</td>\n",
              "      <td>MarianaLimaRibeiro@gmail.com</td>\n",
              "      <td>(28) 4459-2069</td>\n",
              "    </tr>\n",
              "    <tr>\n",
              "      <th>2</th>\n",
              "      <td>Kauan Rocha Pinto</td>\n",
              "      <td>Rua Alfredo Chaves</td>\n",
              "      <td>Central Carapina</td>\n",
              "      <td>1074</td>\n",
              "      <td>Serra</td>\n",
              "      <td>KauanRochaPinto@hotmail.com</td>\n",
              "      <td>(28) 8799-5493</td>\n",
              "    </tr>\n",
              "    <tr>\n",
              "      <th>3</th>\n",
              "      <td>Aline Lima Silva</td>\n",
              "      <td>Rua Arrudao</td>\n",
              "      <td>Centro da Serra</td>\n",
              "      <td>270</td>\n",
              "      <td>Serra</td>\n",
              "      <td>AlineLimaSilva@hotmail.com</td>\n",
              "      <td>(27) 8570-9305</td>\n",
              "    </tr>\n",
              "    <tr>\n",
              "      <th>4</th>\n",
              "      <td>Leonor Azevedo Sousa</td>\n",
              "      <td>Avenida Aracruz</td>\n",
              "      <td>Colina</td>\n",
              "      <td>1125</td>\n",
              "      <td>Linhares</td>\n",
              "      <td>LeonorAzevedoSousa@gmail.com</td>\n",
              "      <td>(27) 5747-8945</td>\n",
              "    </tr>\n",
              "    <tr>\n",
              "      <th>5</th>\n",
              "      <td>Fabio Melo Barros</td>\n",
              "      <td>Rua Primavera</td>\n",
              "      <td>das Laranjeiras</td>\n",
              "      <td>689</td>\n",
              "      <td>Serra</td>\n",
              "      <td>FabioMeloBarros@hotmail.com</td>\n",
              "      <td>(27) 2525-7502</td>\n",
              "    </tr>\n",
              "    <tr>\n",
              "      <th>6</th>\n",
              "      <td>Luis Carvalho Rodrigues</td>\n",
              "      <td>Escadaria Agripino Moreira Drumond</td>\n",
              "      <td>Caratoira</td>\n",
              "      <td>676</td>\n",
              "      <td>Vitoria</td>\n",
              "      <td>LuisCarvalhoRodrigues@hotmail.com</td>\n",
              "      <td>(28) 8798-2391</td>\n",
              "    </tr>\n",
              "    <tr>\n",
              "      <th>7</th>\n",
              "      <td>Clara Rocha Alves</td>\n",
              "      <td>Rua Sebastiao Pedro de Oliveira</td>\n",
              "      <td>Campina Grande</td>\n",
              "      <td>615</td>\n",
              "      <td>Cariacica</td>\n",
              "      <td>ClaraRochaAlves@yahoo.com.br</td>\n",
              "      <td>(27) 7163-5324</td>\n",
              "    </tr>\n",
              "    <tr>\n",
              "      <th>8</th>\n",
              "      <td>Joao Gomes Almeida</td>\n",
              "      <td>Rua Dalia</td>\n",
              "      <td>Santa Paula I</td>\n",
              "      <td>506</td>\n",
              "      <td>Vila Velha</td>\n",
              "      <td>JoaoGomesAlmeida@gmail.com</td>\n",
              "      <td>(28) 3389-9972</td>\n",
              "    </tr>\n",
              "    <tr>\n",
              "      <th>9</th>\n",
              "      <td>Martim Oliveira Correia</td>\n",
              "      <td>Rua Amancio Silva</td>\n",
              "      <td>Arariguaba</td>\n",
              "      <td>496</td>\n",
              "      <td>Cachoeiro de Itapemirim</td>\n",
              "      <td>MartimOliveiraCorreia@hotmail.com</td>\n",
              "      <td>(27) 3706-4024</td>\n",
              "    </tr>\n",
              "    <tr>\n",
              "      <th>10</th>\n",
              "      <td>Yasmin Barros Carvalho</td>\n",
              "      <td>Rua Pinheiro</td>\n",
              "      <td>Movelar</td>\n",
              "      <td>1941</td>\n",
              "      <td>Linhares</td>\n",
              "      <td>YasminBarrosCarvalho@gmail.com</td>\n",
              "      <td>(27) 7154-2546</td>\n",
              "    </tr>\n",
              "    <tr>\n",
              "      <th>11</th>\n",
              "      <td>Luis Carvalho Pereira</td>\n",
              "      <td>Rua Paulo Natali</td>\n",
              "      <td>Paul</td>\n",
              "      <td>637</td>\n",
              "      <td>Vila Velha</td>\n",
              "      <td>LuisCarvalhoPereira@hotmail.com</td>\n",
              "      <td>(27) 5079-8415</td>\n",
              "    </tr>\n",
              "    <tr>\n",
              "      <th>12</th>\n",
              "      <td>Miguel Oliveira Souza</td>\n",
              "      <td>Rua Miguel Arcanjo Moreira</td>\n",
              "      <td>Joana Darc</td>\n",
              "      <td>31</td>\n",
              "      <td>Vitoria</td>\n",
              "      <td>MiguelOliveiraSouza@gmail.com</td>\n",
              "      <td>(27) 4075-9797</td>\n",
              "    </tr>\n",
              "    <tr>\n",
              "      <th>13</th>\n",
              "      <td>Ryan Carvalho Rodrigues</td>\n",
              "      <td>Rua Brasilia</td>\n",
              "      <td>Alterosas</td>\n",
              "      <td>54</td>\n",
              "      <td>Serra</td>\n",
              "      <td>RyanCarvalhoRodrigues@gmail.com</td>\n",
              "      <td>(27) 9958-9797</td>\n",
              "    </tr>\n",
              "    <tr>\n",
              "      <th>14</th>\n",
              "      <td>Marisa Santos Silva</td>\n",
              "      <td>Rua Castro Alves</td>\n",
              "      <td>Cidade da Barra</td>\n",
              "      <td>41</td>\n",
              "      <td>Vila Velha</td>\n",
              "      <td>MarisaSantosSilva@gmail.com</td>\n",
              "      <td>(28) 9862-2069</td>\n",
              "    </tr>\n",
              "    <tr>\n",
              "      <th>15</th>\n",
              "      <td>Mariana Lima Ribeiro</td>\n",
              "      <td>Rua Professora Olga Feres de Cuzzi</td>\n",
              "      <td>Sao Torquato</td>\n",
              "      <td>941</td>\n",
              "      <td>Vila Velha</td>\n",
              "      <td>MarianaLimaRibeiro@gmail.com</td>\n",
              "      <td>(28) 4459-2069</td>\n",
              "    </tr>\n",
              "    <tr>\n",
              "      <th>16</th>\n",
              "      <td>Isabelle Pereira Costa</td>\n",
              "      <td>Rua Alfredo Chaves</td>\n",
              "      <td>Central Carapina</td>\n",
              "      <td>854</td>\n",
              "      <td>Serra</td>\n",
              "      <td>IsabellePereiraCosta@hotmail.com</td>\n",
              "      <td>(28) 9745-5493</td>\n",
              "    </tr>\n",
              "    <tr>\n",
              "      <th>17</th>\n",
              "      <td>Eduarda Correia Carvalho</td>\n",
              "      <td>Rua Arrudao</td>\n",
              "      <td>Centro da Serra</td>\n",
              "      <td>2</td>\n",
              "      <td>Serra</td>\n",
              "      <td>EduardaCorreiaCarvalho@hotmail.com</td>\n",
              "      <td>(27) 9945-9305</td>\n",
              "    </tr>\n",
              "    <tr>\n",
              "      <th>18</th>\n",
              "      <td>Jose Pereira Carvalho</td>\n",
              "      <td>Rua dos Curios</td>\n",
              "      <td>Rosario de Fatima</td>\n",
              "      <td>451</td>\n",
              "      <td>Serra</td>\n",
              "      <td>JosePereiraCarvalho@gmail.com</td>\n",
              "      <td>(27) 9041-8945</td>\n",
              "    </tr>\n",
              "    <tr>\n",
              "      <th>19</th>\n",
              "      <td>Diego Cardoso Castro</td>\n",
              "      <td>Rua Primavera</td>\n",
              "      <td>das Laranjeiras</td>\n",
              "      <td>364</td>\n",
              "      <td>Serra</td>\n",
              "      <td>DiegoCardosoCastro@gmail.com</td>\n",
              "      <td>(27) 9700-7502</td>\n",
              "    </tr>\n",
              "    <tr>\n",
              "      <th>20</th>\n",
              "      <td>Vitoria Araujo Pereira</td>\n",
              "      <td>Escadaria Abrao Sader</td>\n",
              "      <td>Consolacao</td>\n",
              "      <td>75</td>\n",
              "      <td>Vitoria</td>\n",
              "      <td>VitoriaAraujoPereira@hotmail.com</td>\n",
              "      <td>(28) 9999-9123</td>\n",
              "    </tr>\n",
              "    <tr>\n",
              "      <th>21</th>\n",
              "      <td>Julieta Cavalcanti Rocha</td>\n",
              "      <td>Rua Miguel Arcanjo Moreira</td>\n",
              "      <td>Joana Darc</td>\n",
              "      <td>87</td>\n",
              "      <td>Vitoria</td>\n",
              "      <td>JulietaCavalcantiRocha@yahoo.com.br</td>\n",
              "      <td>(27) 9688-2453</td>\n",
              "    </tr>\n",
              "  </tbody>\n",
              "</table>\n",
              "</div>"
            ],
            "text/plain": [
              "                nome_cliente  ...        telefone\n",
              "0      Miguel Oliveira Souza  ...  (27) 4075-9797\n",
              "1       Mariana Lima Ribeiro  ...  (28) 4459-2069\n",
              "2          Kauan Rocha Pinto  ...  (28) 8799-5493\n",
              "3           Aline Lima Silva  ...  (27) 8570-9305\n",
              "4       Leonor Azevedo Sousa  ...  (27) 5747-8945\n",
              "5          Fabio Melo Barros  ...  (27) 2525-7502\n",
              "6    Luis Carvalho Rodrigues  ...  (28) 8798-2391\n",
              "7          Clara Rocha Alves  ...  (27) 7163-5324\n",
              "8         Joao Gomes Almeida  ...  (28) 3389-9972\n",
              "9    Martim Oliveira Correia  ...  (27) 3706-4024\n",
              "10    Yasmin Barros Carvalho  ...  (27) 7154-2546\n",
              "11     Luis Carvalho Pereira  ...  (27) 5079-8415\n",
              "12     Miguel Oliveira Souza  ...  (27) 4075-9797\n",
              "13   Ryan Carvalho Rodrigues  ...  (27) 9958-9797\n",
              "14       Marisa Santos Silva  ...  (28) 9862-2069\n",
              "15      Mariana Lima Ribeiro  ...  (28) 4459-2069\n",
              "16    Isabelle Pereira Costa  ...  (28) 9745-5493\n",
              "17  Eduarda Correia Carvalho  ...  (27) 9945-9305\n",
              "18     Jose Pereira Carvalho  ...  (27) 9041-8945\n",
              "19      Diego Cardoso Castro  ...  (27) 9700-7502\n",
              "20    Vitoria Araujo Pereira  ...  (28) 9999-9123\n",
              "21  Julieta Cavalcanti Rocha  ...  (27) 9688-2453\n",
              "\n",
              "[22 rows x 7 columns]"
            ]
          },
          "metadata": {
            "tags": []
          },
          "execution_count": 22
        }
      ]
    },
    {
      "cell_type": "code",
      "metadata": {
        "id": "txx0-0MVWTlu",
        "colab_type": "code",
        "outputId": "e3d8dd66-147e-47c1-c91d-b4cc8747c83c",
        "colab": {
          "base_uri": "https://localhost:8080/",
          "height": 472
        }
      },
      "source": [
        "import matplotlib.pyplot as plt; plt.rcdefaults()\n",
        "import numpy as np\n",
        "import matplotlib.pyplot as plt\n",
        "grafico5 = pd.read_sql_query(\"\"\"\n",
        "                            SELECT cidade.nome AS nome_da_cidade, COUNT(*) AS qtd_de_moradores FROM usuario\n",
        "                            INNER JOIN usuario_endereco AS ue ON (usuario.codigo = ue.codigo_usuario)\n",
        "                            INNER JOIN endereco ON (ue.codigo_endereco = endereco.codigo) \n",
        "                            INNER JOIN cidade ON (cidade.codigo = endereco.codigo_cidade) \n",
        "                            INNER JOIN bairro ON (bairro.codigo = endereco.codigo_bairro) \n",
        "                            GROUP BY nome_da_cidade; \n",
        "                            \"\"\",conn)\n",
        "\n",
        "df = pd.DataFrame(grafico5)\n",
        "cm = sns.light_palette(\"green\", as_cmap=True)\n",
        "df.style.background_gradient(cmap=cm)\n",
        "\n",
        " \n",
        "objects = tuple(df.nome_da_cidade)\n",
        "y_pos = np.arange(len(objects))\n",
        "performance = list(df.qtd_de_moradores)\n",
        " \n",
        "plt.barh(y_pos, performance,align='center', alpha=0.9, color = \"blue\")\n",
        "plt.yticks(y_pos, objects)\n",
        "plt.ylabel('Nome da Cidade')\n",
        "plt.xlabel('Quantidade de Moradores')\n",
        "plt.title('Quantidade de moradores por cidade')\n",
        " \n",
        "plt.show()"
      ],
      "execution_count": 0,
      "outputs": [
        {
          "output_type": "display_data",
          "data": {
            "image/png": "[encoded data removed]",
            "text/plain": [
              "<Figure size 640x480 with 1 Axes>"
            ]
          },
          "metadata": {
            "tags": []
          }
        }
      ]
    }
  ]
}
